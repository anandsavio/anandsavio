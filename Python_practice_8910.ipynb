{
  "nbformat": 4,
  "nbformat_minor": 0,
  "metadata": {
    "colab": {
      "name": "Python_practice_8910.ipynb",
      "provenance": [],
      "authorship_tag": "ABX9TyP0wyWzBNzog2yvd8fnrG3G",
      "include_colab_link": true
    },
    "kernelspec": {
      "name": "python3",
      "display_name": "Python 3"
    },
    "language_info": {
      "name": "python"
    }
  },
  "cells": [
    {
      "cell_type": "markdown",
      "metadata": {
        "id": "view-in-github",
        "colab_type": "text"
      },
      "source": [
        "<a href=\"https://colab.research.google.com/github/anandsavio/anandsavio/blob/main/Python_practice_8910.ipynb\" target=\"_parent\"><img src=\"https://colab.research.google.com/assets/colab-badge.svg\" alt=\"Open In Colab\"/></a>"
      ]
    },
    {
      "cell_type": "markdown",
      "source": [
        "Euler 8\n",
        "\n",
        "13 digits from 1000 digits"
      ],
      "metadata": {
        "id": "htacv9uEs2J8"
      }
    },
    {
      "cell_type": "code",
      "source": [
        "series =(\"\"\"73167176531330624919225119674426574742355349194934\n",
        "96983520312774506326239578318016984801869478851843\n",
        "85861560789112949495459501737958331952853208805511\n",
        "12540698747158523863050715693290963295227443043557\n",
        "66896648950445244523161731856403098711121722383113\n",
        "62229893423380308135336276614282806444486645238749\n",
        "30358907296290491560440772390713810515859307960866\n",
        "70172427121883998797908792274921901699720888093776\n",
        "65727333001053367881220235421809751254540594752243\n",
        "52584907711670556013604839586446706324415722155397\n",
        "53697817977846174064955149290862569321978468622482\n",
        "83972241375657056057490261407972968652414535100474\n",
        "82166370484403199890008895243450658541227588666881\n",
        "16427171479924442928230863465674813919123162824586\n",
        "17866458359124566529476545682848912883142607690042\n",
        "24219022671055626321111109370544217506941658960408\n",
        "07198403850962455444362981230987879927244284909188\n",
        "84580156166097919133875499200524063689912560717606\n",
        "05886116467109405077541002256983155200055935729725\n",
        "71636269561882670428252483600823257530420752963450\"\"\")\n",
        "\n",
        "series = series.replace(\"\\n\",\"\").replace(\" \",\"\")\n",
        "\n",
        "digits = [int(char) for char in series ]\n",
        "\n",
        "#select 13 adjacent digits from the list & multiply\n",
        "j=0\n",
        "i = 13\n",
        "k = len(digits)\n",
        "prodmax = 0\n",
        "maxlist = []\n",
        "while j < k - i+1:\n",
        "    series13 = digits[j:j+i]\n",
        "    if list_prod(series13) > prodmax:\n",
        "        prodmax = list_prod(series13)\n",
        "        maxlist = series13\n",
        "    j += 1\n",
        "len(series13)\n",
        "print(\"Product = \",prodmax, \": Series =\", maxlist)"
      ],
      "metadata": {
        "colab": {
          "base_uri": "https://localhost:8080/"
        },
        "id": "28jWnxhx6Xpw",
        "outputId": "000f4044-2eea-471a-bbe8-acf6374abc5a"
      },
      "execution_count": 88,
      "outputs": [
        {
          "output_type": "stream",
          "name": "stdout",
          "text": [
            "Product =  23514624000 : Series = [5, 5, 7, 6, 6, 8, 9, 6, 6, 4, 8, 9, 5]\n"
          ]
        }
      ]
    },
    {
      "cell_type": "code",
      "source": [
        "len(\"0420752963450\")"
      ],
      "metadata": {
        "colab": {
          "base_uri": "https://localhost:8080/"
        },
        "id": "1cWha-Z_ABaT",
        "outputId": "31f0bcc1-090a-45f8-d41c-2a8256ddd731"
      },
      "execution_count": 77,
      "outputs": [
        {
          "output_type": "execute_result",
          "data": {
            "text/plain": [
              "13"
            ]
          },
          "metadata": {},
          "execution_count": 77
        }
      ]
    },
    {
      "cell_type": "code",
      "source": [
        "def splitter(n:[int]) ->int:\n",
        "    digits=[]\n",
        "    while n>0:\n",
        "        digits.insert(len(digits),n%10)\n",
        "        n //=10\n",
        "    return digits"
      ],
      "metadata": {
        "id": "OXUaqCdqtImD"
      },
      "execution_count": 37,
      "outputs": []
    },
    {
      "cell_type": "code",
      "source": [
        "len(splitter(num))"
      ],
      "metadata": {
        "colab": {
          "base_uri": "https://localhost:8080/"
        },
        "id": "tPuntTc0tKjG",
        "outputId": "4327b84e-7131-4c67-8322-3016506e2277"
      },
      "execution_count": 38,
      "outputs": [
        {
          "output_type": "execute_result",
          "data": {
            "text/plain": [
              "1000"
            ]
          },
          "metadata": {},
          "execution_count": 38
        }
      ]
    },
    {
      "cell_type": "code",
      "source": [
        "split_list = splitter(num)"
      ],
      "metadata": {
        "id": "isQPRuE0tWwQ"
      },
      "execution_count": 39,
      "outputs": []
    },
    {
      "cell_type": "code",
      "source": [
        "len(split_list)"
      ],
      "metadata": {
        "colab": {
          "base_uri": "https://localhost:8080/"
        },
        "id": "_NDln_AqtYHv",
        "outputId": "5d9fba7f-022c-464c-a1f8-d4f6c604e243"
      },
      "execution_count": 40,
      "outputs": [
        {
          "output_type": "execute_result",
          "data": {
            "text/plain": [
              "1000"
            ]
          },
          "metadata": {},
          "execution_count": 40
        }
      ]
    },
    {
      "cell_type": "code",
      "source": [
        "def list_prod(s:[int]) ->int:\n",
        "    p=1\n",
        "    for q in s:\n",
        "        p *= q\n",
        "    return(p)"
      ],
      "metadata": {
        "id": "8tzr_cdvtt-U"
      },
      "execution_count": 41,
      "outputs": []
    },
    {
      "cell_type": "code",
      "source": [
        " th = [1,2,3,4,5,6,7,8,9]\n",
        "\n",
        " list_prod(th)"
      ],
      "metadata": {
        "colab": {
          "base_uri": "https://localhost:8080/"
        },
        "id": "U1qCFbU3v6hl",
        "outputId": "cc0f5a20-9884-4a4d-c799-321f1a57745f"
      },
      "execution_count": 42,
      "outputs": [
        {
          "output_type": "execute_result",
          "data": {
            "text/plain": [
              "362880"
            ]
          },
          "metadata": {},
          "execution_count": 42
        }
      ]
    },
    {
      "cell_type": "code",
      "source": [
        "splitter(num)"
      ],
      "metadata": {
        "id": "rKm0c6833zr0"
      },
      "execution_count": null,
      "outputs": []
    },
    {
      "cell_type": "code",
      "source": [
        "splitter(num)"
      ],
      "metadata": {
        "id": "gYFGf_O14Aia"
      },
      "execution_count": null,
      "outputs": []
    },
    {
      "cell_type": "code",
      "source": [
        "list_prod(splitter(num).index[0:4])"
      ],
      "metadata": {
        "id": "Aki_Rtkl3Wo0"
      },
      "execution_count": null,
      "outputs": []
    },
    {
      "cell_type": "code",
      "source": [
        "def euler8_001(num:int) ->[int]:\n",
        "    cnt = 0\n",
        "    th = []\n",
        "    products = []\n",
        "    productlist = []\n",
        "    while cnt < len(splitter(num)):\n",
        "        cnt1 = 0\n",
        "        while cnt1+12 < len(splitter(num)):\n",
        "            th = splitter(num).index(cnt1,cnt1+12)\n",
        "            products.insert(list_prod(th))\n",
        "    print(max(products))"
      ],
      "metadata": {
        "id": "xXPn5aD_t0K6"
      },
      "execution_count": 22,
      "outputs": []
    },
    {
      "cell_type": "markdown",
      "source": [
        "Euler 2\n",
        "\n",
        "sum of even Fibonacci numbers less than 4 million"
      ],
      "metadata": {
        "id": "DfUjHynHHa2n"
      }
    },
    {
      "cell_type": "code",
      "source": [
        "test = [1,2,3,4,5,6,7,8,9,0]\n",
        "\n",
        "test[len(test)-2:]"
      ],
      "metadata": {
        "colab": {
          "base_uri": "https://localhost:8080/"
        },
        "id": "nicBsteoW_d9",
        "outputId": "3260f68e-e14b-4a1b-ebd9-bebb3dcd169e"
      },
      "execution_count": 153,
      "outputs": [
        {
          "output_type": "execute_result",
          "data": {
            "text/plain": [
              "[9, 0]"
            ]
          },
          "metadata": {},
          "execution_count": 153
        }
      ]
    },
    {
      "cell_type": "code",
      "source": [
        "def set_sum(set:[int]) ->int:\n",
        "    ssum = 0\n",
        "    for el in set:\n",
        "        ssum += el\n",
        "    return (ssum)"
      ],
      "metadata": {
        "id": "Y5S5YWuEZC1e"
      },
      "execution_count": 156,
      "outputs": []
    },
    {
      "cell_type": "code",
      "source": [
        "set_sum(test)"
      ],
      "metadata": {
        "colab": {
          "base_uri": "https://localhost:8080/"
        },
        "id": "PKDKCPyjZW9h",
        "outputId": "01f77518-d7dd-4b37-a074-72625a02e7ab"
      },
      "execution_count": 157,
      "outputs": [
        {
          "output_type": "execute_result",
          "data": {
            "text/plain": [
              "45"
            ]
          },
          "metadata": {},
          "execution_count": 157
        }
      ]
    },
    {
      "cell_type": "code",
      "source": [
        "def fibonacci(n1,n2:int) ->[int]:\n",
        "    fib_seq = [n1,n2]\n",
        "    n3 = 0\n",
        "    while n3 < 4*10**6:\n",
        "        n3 = set_sum(fib_seq[len(fib_seq)-2:])\n",
        "        fib_seq.insert(len(fib_seq)+1,n3)\n",
        "    return (fib_seq)\n",
        "    print(fib_seq)"
      ],
      "metadata": {
        "id": "zeihPsn3uuGh"
      },
      "execution_count": 162,
      "outputs": []
    },
    {
      "cell_type": "code",
      "source": [
        "fibonacci(1,2)"
      ],
      "metadata": {
        "id": "1fPiVrBsLA8c"
      },
      "execution_count": null,
      "outputs": []
    },
    {
      "cell_type": "code",
      "source": [
        "def euler2_001(seq:[int]) ->int:\n",
        "    fib_e_sum = 0\n",
        "    for fb in seq:\n",
        "        if fb % 2 == 0:\n",
        "            fib_e_sum += fb\n",
        "    return (fib_e_sum)\n"
      ],
      "metadata": {
        "id": "JqTglrb-W-Vc"
      },
      "execution_count": 164,
      "outputs": []
    },
    {
      "cell_type": "code",
      "source": [
        "euler2_001(fibonacci(1,2))"
      ],
      "metadata": {
        "colab": {
          "base_uri": "https://localhost:8080/"
        },
        "id": "rFUPxxGSL73h",
        "outputId": "10a214ac-946c-44a1-90b4-0464a6bd85ff"
      },
      "execution_count": 165,
      "outputs": [
        {
          "output_type": "execute_result",
          "data": {
            "text/plain": [
              "4613732"
            ]
          },
          "metadata": {},
          "execution_count": 165
        }
      ]
    },
    {
      "cell_type": "code",
      "source": [
        ""
      ],
      "metadata": {
        "id": "NbV7bewobk0O"
      },
      "execution_count": null,
      "outputs": []
    }
  ]
}