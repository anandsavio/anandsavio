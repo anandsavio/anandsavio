{
  "nbformat": 4,
  "nbformat_minor": 0,
  "metadata": {
    "colab": {
      "name": "CDS0904_classwork2.ipynb",
      "provenance": [],
      "authorship_tag": "ABX9TyNyZEntEdAQ74XAN9/EZx0M",
      "include_colab_link": true
    },
    "kernelspec": {
      "name": "python3",
      "display_name": "Python 3"
    },
    "language_info": {
      "name": "python"
    }
  },
  "cells": [
    {
      "cell_type": "markdown",
      "metadata": {
        "id": "view-in-github",
        "colab_type": "text"
      },
      "source": [
        "<a href=\"https://colab.research.google.com/github/anandsavio/anandsavio/blob/main/CDS0904_classwork2.ipynb\" target=\"_parent\"><img src=\"https://colab.research.google.com/assets/colab-badge.svg\" alt=\"Open In Colab\"/></a>"
      ]
    },
    {
      "cell_type": "markdown",
      "source": [
        "Given a string of the form, representing valid dates,\n",
        "\n",
        "\"dd/mm/yyyy\" or \"dd-mm-yyyy\"\n",
        "\n",
        "where both dd and mm may or may not have leading zeros, write a function that returns the seven digit integer yyyyddd, where ddd in the n 𝑡ℎ  day of the year\n",
        "\n",
        "Examples\n",
        "\n",
        "\"7/3/2001\" ==> 2001066\n",
        "\n",
        "\"09/04/2000\" ==> 2000100"
      ],
      "metadata": {
        "id": "aVLvDAr0810D"
      }
    },
    {
      "cell_type": "code",
      "source": [
        "def is_leap(y: int) -> bool:\n",
        "    if y % 100 == 0:\n",
        "        return y % 400 == 0\n",
        "    else:\n",
        "        return y % 4 == 0"
      ],
      "metadata": {
        "id": "Qe2y7MKvJNjk"
      },
      "execution_count": 45,
      "outputs": []
    },
    {
      "cell_type": "code",
      "source": [
        "def date_to_yrday(date:str) ->int:\n",
        "    yr = int(date[-4:])\n",
        "    if '/' in date:\n",
        "        split_date = date.split('/')\n",
        "    else:\n",
        "        split_date = date.split('-')\n",
        "    \n",
        "    d = int(split_date[0])\n",
        "    mn = int(split_date[1])\n",
        "\n",
        "    UPTO_DAYS_ORDY = [0, 0,31, 59, 90, 120, 151, 181, 212, 243, 273, 304, 334]\n",
        "    UPTO_DAYS_LEAP = [0, 0,31, 60, 91, 121, 152, 182, 213, 244, 274, 305, 335]\n",
        "\n",
        "    if is_leap(yr):\n",
        "        days = UPTO_DAYS_LEAP\n",
        "    else:\n",
        "        days = UPTO_DAYS_ORDY\n",
        "    \n",
        "    final = yr*1000 + days[mn]+d\n",
        "\n",
        "    print(final)"
      ],
      "metadata": {
        "id": "LLeyt4vD86iM"
      },
      "execution_count": 52,
      "outputs": []
    },
    {
      "cell_type": "code",
      "source": [
        "date_to_yrday(\"4/2/2002\")"
      ],
      "metadata": {
        "colab": {
          "base_uri": "https://localhost:8080/"
        },
        "id": "5POXg1SY9sG9",
        "outputId": "bd9bf07b-0bf4-46ca-c6a3-0403c080b6f0"
      },
      "execution_count": 53,
      "outputs": [
        {
          "output_type": "stream",
          "name": "stdout",
          "text": [
            "2002035\n"
          ]
        }
      ]
    },
    {
      "cell_type": "markdown",
      "source": [
        "Dictionaries"
      ],
      "metadata": {
        "id": "xNXg6xThkMSy"
      }
    },
    {
      "cell_type": "code",
      "source": [
        "new_dict = {\"1\":\"a\",'2':'b','3':'c','4':'d'}\n",
        "\n",
        "new_dict[\"1\"]"
      ],
      "metadata": {
        "colab": {
          "base_uri": "https://localhost:8080/",
          "height": 35
        },
        "id": "CBs3luRt95RK",
        "outputId": "9117d7dc-3f34-499e-a0fb-da0a1c39b47c"
      },
      "execution_count": 55,
      "outputs": [
        {
          "output_type": "execute_result",
          "data": {
            "text/plain": [
              "'a'"
            ],
            "application/vnd.google.colaboratory.intrinsic+json": {
              "type": "string"
            }
          },
          "metadata": {},
          "execution_count": 55
        }
      ]
    },
    {
      "cell_type": "code",
      "source": [
        "#to add a new entry use\n",
        "new_dict[\"5\"] = \"e\""
      ],
      "metadata": {
        "id": "AAhfJlYFlJMu"
      },
      "execution_count": 56,
      "outputs": []
    },
    {
      "cell_type": "code",
      "source": [
        "new_dict[\"5\"]"
      ],
      "metadata": {
        "colab": {
          "base_uri": "https://localhost:8080/",
          "height": 35
        },
        "id": "I7qgUAV9lkwP",
        "outputId": "8e1347e8-1bae-4ecb-b9b4-01aaac98bc77"
      },
      "execution_count": 57,
      "outputs": [
        {
          "output_type": "execute_result",
          "data": {
            "text/plain": [
              "'e'"
            ],
            "application/vnd.google.colaboratory.intrinsic+json": {
              "type": "string"
            }
          },
          "metadata": {},
          "execution_count": 57
        }
      ]
    },
    {
      "cell_type": "code",
      "source": [
        "new_dict.keys()"
      ],
      "metadata": {
        "colab": {
          "base_uri": "https://localhost:8080/"
        },
        "id": "YFtTNZURlnMr",
        "outputId": "aeaaf825-d8ad-4679-9782-22ba6587b09a"
      },
      "execution_count": 58,
      "outputs": [
        {
          "output_type": "execute_result",
          "data": {
            "text/plain": [
              "dict_keys(['1', '2', '3', '4', '5'])"
            ]
          },
          "metadata": {},
          "execution_count": 58
        }
      ]
    },
    {
      "cell_type": "code",
      "source": [
        "#iterable\n",
        "for numbers in new_dict.keys():\n",
        "    print(numbers)\n",
        "    print(new_dict[numbers])"
      ],
      "metadata": {
        "colab": {
          "base_uri": "https://localhost:8080/"
        },
        "id": "oYZC7TNpnbMx",
        "outputId": "9d9cb2dd-6d40-4c15-ef7a-e12456563f5a"
      },
      "execution_count": 61,
      "outputs": [
        {
          "output_type": "stream",
          "name": "stdout",
          "text": [
            "1\n",
            "a\n",
            "2\n",
            "b\n",
            "3\n",
            "c\n",
            "4\n",
            "d\n",
            "5\n",
            "e\n"
          ]
        }
      ]
    },
    {
      "cell_type": "markdown",
      "source": [
        "Separate anagrams from list"
      ],
      "metadata": {
        "id": "gfKXYoMWqZds"
      }
    },
    {
      "cell_type": "code",
      "source": [
        "words = [\"hello\", \"pests\", \"steps\", \"sword\", \"spear\", \"pears\", \"cloud\", \n",
        "         \"steep\", \"pares\", \"could\", \"reaps\"]"
      ],
      "metadata": {
        "id": "MpGDBxcApdLG"
      },
      "execution_count": 2,
      "outputs": []
    },
    {
      "cell_type": "code",
      "source": [
        "def anagram2(s):\n",
        "    anagrams = {}\n",
        "    for word in s:\n",
        "        word = word.lower()\n",
        "        key = ''.join(sorted(word))\n",
        "        if key in anagrams.keys():\n",
        "            anagrams[key].append(word)\n",
        "        else:\n",
        "            anagrams[key] = [word]\n",
        "    \n",
        "    for anag in anagrams.keys():\n",
        "        if len(anagrams[anag]) > 1:\n",
        "            print (','.join(anagrams[anag]))"
      ],
      "metadata": {
        "id": "G05vQs7M38kB"
      },
      "execution_count": 9,
      "outputs": []
    },
    {
      "cell_type": "code",
      "source": [
        "anagram2(words)"
      ],
      "metadata": {
        "colab": {
          "base_uri": "https://localhost:8080/"
        },
        "id": "EkXodhb44tJL",
        "outputId": "9c621831-4a92-49cc-e9c0-322ee345471a"
      },
      "execution_count": 10,
      "outputs": [
        {
          "output_type": "stream",
          "name": "stdout",
          "text": [
            "pests,steps\n",
            "spear,pears,pares,reaps\n",
            "cloud,could\n"
          ]
        }
      ]
    },
    {
      "cell_type": "markdown",
      "source": [
        "Shifu's code\n",
        "\n",
        "\n",
        "```\n",
        "\n",
        "anagrams = {}\n",
        "for word in words:\n",
        "    word = word.lower()\n",
        "    key = ''.join(sorted(word))\n",
        "    if key in anagrams:\n",
        "        anagrams[key].append(word)\n",
        "    else:\n",
        "        anagrams[key] = [word]\n",
        "\n",
        "for anagram in anagrams:\n",
        "    if len(anagrams[anagram]) > 1:\n",
        "        print(\",\".join(anagrams[anagram]))\n",
        "\n",
        "```"
      ],
      "metadata": {
        "id": "eQCpaTx6ykHL"
      }
    },
    {
      "cell_type": "code",
      "source": [
        "anagrams = {}\n",
        "for word in words:\n",
        "    word = word.lower()\n",
        "    key = ''.join(sorted(word))\n",
        "    if key in anagrams:\n",
        "        anagrams[key].append(word)\n",
        "    else:\n",
        "        anagrams[key] = [word]\n",
        "\n",
        "for anagram in anagrams:\n",
        "    if len(anagrams[anagram]) > 1:\n",
        "        print(\",\".join(anagrams[anagram]))"
      ],
      "metadata": {
        "colab": {
          "base_uri": "https://localhost:8080/"
        },
        "id": "GdHdR-FDsOTN",
        "outputId": "8215cf35-83fe-4c33-f9c5-2fbc85f91828"
      },
      "execution_count": 94,
      "outputs": [
        {
          "output_type": "stream",
          "name": "stdout",
          "text": [
            "pests,steps\n",
            "spear,pears,pares,reaps\n",
            "cloud,could\n"
          ]
        }
      ]
    }
  ]
}