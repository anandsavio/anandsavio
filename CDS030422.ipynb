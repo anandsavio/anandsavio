{
  "nbformat": 4,
  "nbformat_minor": 0,
  "metadata": {
    "colab": {
      "name": "CDS030422.ipynb",
      "provenance": [],
      "authorship_tag": "ABX9TyPSbx4toNPVByFypAjCeFfs",
      "include_colab_link": true
    },
    "kernelspec": {
      "name": "python3",
      "display_name": "Python 3"
    },
    "language_info": {
      "name": "python"
    }
  },
  "cells": [
    {
      "cell_type": "markdown",
      "metadata": {
        "id": "view-in-github",
        "colab_type": "text"
      },
      "source": [
        "<a href=\"https://colab.research.google.com/github/anandsavio/anandsavio/blob/main/CDS030422.ipynb\" target=\"_parent\"><img src=\"https://colab.research.google.com/assets/colab-badge.svg\" alt=\"Open In Colab\"/></a>"
      ]
    },
    {
      "cell_type": "code",
      "execution_count": 1,
      "metadata": {
        "id": "7nwmvk9Hn6y_"
      },
      "outputs": [],
      "source": [
        "limit = 10"
      ]
    },
    {
      "cell_type": "code",
      "source": [
        "print(limit)"
      ],
      "metadata": {
        "colab": {
          "base_uri": "https://localhost:8080/"
        },
        "id": "5HR_RM3An9PA",
        "outputId": "aa44d056-c49a-4910-d766-7af7649c45ea"
      },
      "execution_count": 2,
      "outputs": [
        {
          "output_type": "stream",
          "name": "stdout",
          "text": [
            "10\n"
          ]
        }
      ]
    },
    {
      "cell_type": "code",
      "source": [
        "num,total =1,0\n",
        "while num<limit:\n",
        "  if num%3==0 or num%5==0:\n",
        "    total+=num\n",
        "    num=num+1\n",
        "return total"
      ],
      "metadata": {
        "colab": {
          "base_uri": "https://localhost:8080/",
          "height": 236
        },
        "id": "B1LwHcUNn_XT",
        "outputId": "b3e81e9d-e5d3-403d-ab8b-bdd88f3ec978"
      },
      "execution_count": 3,
      "outputs": [
        {
          "output_type": "error",
          "ename": "KeyboardInterrupt",
          "evalue": "ignored",
          "traceback": [
            "\u001b[0;31m---------------------------------------------------------------------------\u001b[0m",
            "\u001b[0;31mKeyboardInterrupt\u001b[0m                         Traceback (most recent call last)",
            "\u001b[0;32m<ipython-input-3-961e51b4e113>\u001b[0m in \u001b[0;36m<module>\u001b[0;34m()\u001b[0m\n\u001b[1;32m      1\u001b[0m \u001b[0mnum\u001b[0m\u001b[0;34m,\u001b[0m\u001b[0mtotal\u001b[0m \u001b[0;34m=\u001b[0m\u001b[0;36m1\u001b[0m\u001b[0;34m,\u001b[0m\u001b[0;36m0\u001b[0m\u001b[0;34m\u001b[0m\u001b[0;34m\u001b[0m\u001b[0m\n\u001b[0;32m----> 2\u001b[0;31m \u001b[0;32mwhile\u001b[0m \u001b[0mnum\u001b[0m\u001b[0;34m<\u001b[0m\u001b[0mlimit\u001b[0m\u001b[0;34m:\u001b[0m\u001b[0;34m\u001b[0m\u001b[0;34m\u001b[0m\u001b[0m\n\u001b[0m\u001b[1;32m      3\u001b[0m   \u001b[0;32mif\u001b[0m \u001b[0mnum\u001b[0m\u001b[0;34m%\u001b[0m\u001b[0;36m3\u001b[0m\u001b[0;34m==\u001b[0m\u001b[0;36m0\u001b[0m \u001b[0;32mor\u001b[0m \u001b[0mnum\u001b[0m\u001b[0;34m%\u001b[0m\u001b[0;36m5\u001b[0m\u001b[0;34m==\u001b[0m\u001b[0;36m0\u001b[0m\u001b[0;34m:\u001b[0m\u001b[0;34m\u001b[0m\u001b[0;34m\u001b[0m\u001b[0m\n\u001b[1;32m      4\u001b[0m     \u001b[0mtotal\u001b[0m\u001b[0;34m+=\u001b[0m\u001b[0mnum\u001b[0m\u001b[0;34m\u001b[0m\u001b[0;34m\u001b[0m\u001b[0m\n\u001b[1;32m      5\u001b[0m     \u001b[0mnum\u001b[0m\u001b[0;34m=\u001b[0m\u001b[0mnum\u001b[0m\u001b[0;34m+\u001b[0m\u001b[0;36m1\u001b[0m\u001b[0;34m\u001b[0m\u001b[0;34m\u001b[0m\u001b[0m\n",
            "\u001b[0;31mKeyboardInterrupt\u001b[0m: "
          ]
        }
      ]
    },
    {
      "cell_type": "code",
      "source": [
        "!python--version"
      ],
      "metadata": {
        "colab": {
          "base_uri": "https://localhost:8080/"
        },
        "id": "QYIwuQXuoAw0",
        "outputId": "d42a9a89-4dde-45b1-eac2-e159e9bc7221"
      },
      "execution_count": 5,
      "outputs": [
        {
          "output_type": "stream",
          "name": "stdout",
          "text": [
            "/bin/bash: python--version: command not found\n"
          ]
        }
      ]
    },
    {
      "cell_type": "code",
      "source": [
        "!python --version"
      ],
      "metadata": {
        "colab": {
          "base_uri": "https://localhost:8080/"
        },
        "id": "2pdBHr8ArViw",
        "outputId": "9d438c04-aae6-4565-91b0-9ec36beca8bc"
      },
      "execution_count": 6,
      "outputs": [
        {
          "output_type": "stream",
          "name": "stdout",
          "text": [
            "Python 3.7.13\n"
          ]
        }
      ]
    },
    {
      "cell_type": "code",
      "source": [
        "limit =100"
      ],
      "metadata": {
        "id": "-9HqT_4LsdyM"
      },
      "execution_count": 7,
      "outputs": []
    },
    {
      "cell_type": "code",
      "source": [
        "print(limit)"
      ],
      "metadata": {
        "colab": {
          "base_uri": "https://localhost:8080/"
        },
        "id": "acgofZz6sgxv",
        "outputId": "23c72b81-3a9b-4164-8400-bc04686b7924"
      },
      "execution_count": 8,
      "outputs": [
        {
          "output_type": "stream",
          "name": "stdout",
          "text": [
            "100\n"
          ]
        }
      ]
    },
    {
      "cell_type": "code",
      "source": [
        "num,total = 1,0\n",
        "while num<100:\n",
        "    num=num+1\n",
        "    if num%5==0:\n",
        "        total+=num\n",
        "return(total)\n",
        "print(total)"
      ],
      "metadata": {
        "colab": {
          "base_uri": "https://localhost:8080/",
          "height": 131
        },
        "id": "QExVcLwLsi7a",
        "outputId": "57423917-f93d-45f6-b384-b22d35461854"
      },
      "execution_count": 16,
      "outputs": [
        {
          "output_type": "error",
          "ename": "SyntaxError",
          "evalue": "ignored",
          "traceback": [
            "\u001b[0;36m  File \u001b[0;32m\"<ipython-input-16-8319b7061bcb>\"\u001b[0;36m, line \u001b[0;32m6\u001b[0m\n\u001b[0;31m    return(total)\u001b[0m\n\u001b[0m                 ^\u001b[0m\n\u001b[0;31mSyntaxError\u001b[0m\u001b[0;31m:\u001b[0m 'return' outside function\n"
          ]
        }
      ]
    },
    {
      "cell_type": "code",
      "source": [
        "num,total = 1,0"
      ],
      "metadata": {
        "id": "RbgGBFFftB3l"
      },
      "execution_count": 22,
      "outputs": []
    },
    {
      "cell_type": "code",
      "source": [
        "while num<1000:\n",
        "    num=num+1\n",
        "    if num%3==0 or num%5==0:\n",
        "        total+=num\n",
        "print(total)"
      ],
      "metadata": {
        "colab": {
          "base_uri": "https://localhost:8080/"
        },
        "id": "UDBZ6LnQyhYO",
        "outputId": "62f8dc09-7709-46ad-904c-aaad2aa59203"
      },
      "execution_count": 24,
      "outputs": [
        {
          "output_type": "stream",
          "name": "stdout",
          "text": [
            "234168\n"
          ]
        }
      ]
    },
    {
      "cell_type": "code",
      "source": [
        "def euler1_005(limit:int) ->int:\n",
        "    total= sum(range(3,limit,3))+sum(range(5,limit,5))-sum(range(15,limit,15))\n",
        "    print(total)"
      ],
      "metadata": {
        "id": "NOlbr2nwywn4"
      },
      "execution_count": 28,
      "outputs": []
    },
    {
      "cell_type": "code",
      "source": [
        "euler1_005(1000)"
      ],
      "metadata": {
        "colab": {
          "base_uri": "https://localhost:8080/",
          "height": 166
        },
        "id": "dzK7TbEGz276",
        "outputId": "c427662d-7ed8-4859-b465-847b103c0eaf"
      },
      "execution_count": 30,
      "outputs": [
        {
          "output_type": "error",
          "ename": "TypeError",
          "evalue": "ignored",
          "traceback": [
            "\u001b[0;31m---------------------------------------------------------------------------\u001b[0m",
            "\u001b[0;31mTypeError\u001b[0m                                 Traceback (most recent call last)",
            "\u001b[0;32m<ipython-input-30-44ec80af8c64>\u001b[0m in \u001b[0;36m<module>\u001b[0;34m()\u001b[0m\n\u001b[0;32m----> 1\u001b[0;31m \u001b[0meuler1_005\u001b[0m\u001b[0;34m(\u001b[0m\u001b[0;36m1000\u001b[0m\u001b[0;34m)\u001b[0m\u001b[0;34m\u001b[0m\u001b[0;34m\u001b[0m\u001b[0m\n\u001b[0m",
            "\u001b[0;31mTypeError\u001b[0m: euler1_005() missing 1 required positional argument: 'int'"
          ]
        }
      ]
    },
    {
      "cell_type": "code",
      "source": [
        "def euler1_005(limit:int) ->int:\n",
        "    total= sum(range(3,limit,3))+sum(range(5,limit,5))-sum(range(15,limit,15))\n",
        "    print(total)"
      ],
      "metadata": {
        "id": "VfhBlw8t0MqN"
      },
      "execution_count": 31,
      "outputs": []
    },
    {
      "cell_type": "code",
      "source": [
        "euler1_005(1000)"
      ],
      "metadata": {
        "colab": {
          "base_uri": "https://localhost:8080/"
        },
        "id": "txhAI4uD0ad9",
        "outputId": "06c1aa6b-7a0b-4096-ceb4-cedcadc43f8b"
      },
      "execution_count": 32,
      "outputs": [
        {
          "output_type": "stream",
          "name": "stdout",
          "text": [
            "233168\n"
          ]
        }
      ]
    },
    {
      "cell_type": "code",
      "source": [
        "def euler1_001(limit:int) ->int:\n",
        "    num,tot = 1,0\n",
        "    while num<limit:\n",
        "        if num%5==0 or num%3==0:\n",
        "            tot +=num\n",
        "        num = num+1\n",
        "    return(tot)"
      ],
      "metadata": {
        "id": "hEutmhCt0iY1"
      },
      "execution_count": 33,
      "outputs": []
    },
    {
      "cell_type": "code",
      "source": [
        "euler1_001(limit)"
      ],
      "metadata": {
        "colab": {
          "base_uri": "https://localhost:8080/"
        },
        "id": "2jtswT_41XCx",
        "outputId": "6d827170-823c-4511-87f8-e4b1b93e621a"
      },
      "execution_count": 34,
      "outputs": [
        {
          "output_type": "execute_result",
          "data": {
            "text/plain": [
              "2318"
            ]
          },
          "metadata": {},
          "execution_count": 34
        }
      ]
    },
    {
      "cell_type": "code",
      "source": [
        "print(limit)"
      ],
      "metadata": {
        "colab": {
          "base_uri": "https://localhost:8080/"
        },
        "id": "znWQ7Ham1b_7",
        "outputId": "7618af8f-1932-4fc6-ebf8-91a162252dd9"
      },
      "execution_count": 35,
      "outputs": [
        {
          "output_type": "stream",
          "name": "stdout",
          "text": [
            "100\n"
          ]
        }
      ]
    },
    {
      "cell_type": "code",
      "source": [
        "euler1_001(1000)"
      ],
      "metadata": {
        "colab": {
          "base_uri": "https://localhost:8080/"
        },
        "id": "teO05LLp1e9C",
        "outputId": "4d87ee66-189d-4287-8047-9e908a719f32"
      },
      "execution_count": 36,
      "outputs": [
        {
          "output_type": "execute_result",
          "data": {
            "text/plain": [
              "233168"
            ]
          },
          "metadata": {},
          "execution_count": 36
        }
      ]
    },
    {
      "cell_type": "code",
      "source": [
        "def euler1_002(limit:int) ->int:\n",
        "    num,tot = 1,0\n",
        "    while num<limit:\n",
        "        if select(num):\n",
        "            tot +=num\n",
        "        num = num+1\n",
        "    return(tot)\n",
        "\n",
        "def select (n:int) ->bool:\n",
        "    return num%5 == 0 or num%3 == 0"
      ],
      "metadata": {
        "id": "Monm0ssp1iDT"
      },
      "execution_count": 45,
      "outputs": []
    },
    {
      "cell_type": "code",
      "source": [
        "euler1_002(limit)"
      ],
      "metadata": {
        "colab": {
          "base_uri": "https://localhost:8080/"
        },
        "id": "BriQYPcH3AgW",
        "outputId": "6e8c41e2-7ff3-4ebe-806b-84893047de52"
      },
      "execution_count": 46,
      "outputs": [
        {
          "output_type": "execute_result",
          "data": {
            "text/plain": [
              "4950"
            ]
          },
          "metadata": {},
          "execution_count": 46
        }
      ]
    },
    {
      "cell_type": "code",
      "source": [
        "euler1_002(1000)"
      ],
      "metadata": {
        "colab": {
          "base_uri": "https://localhost:8080/"
        },
        "id": "FLniQ2VC3q2r",
        "outputId": "e0143486-7031-4e06-d601-167a0a1c4d4b"
      },
      "execution_count": 47,
      "outputs": [
        {
          "output_type": "execute_result",
          "data": {
            "text/plain": [
              "499500"
            ]
          },
          "metadata": {},
          "execution_count": 47
        }
      ]
    },
    {
      "cell_type": "code",
      "source": [
        "#euler 10 find sum of  primes\n",
        "\n",
        "def is_prime(n:int) ->bool:\n",
        "    if n<2:\n",
        "        return False\n",
        "    if n in [2,3,5]:\n",
        "        return True\n",
        "    if n % 2 ==0:\n",
        "        return False\n",
        "    factor = 3\n",
        "    while factor*factor <=n:\n",
        "        if n % factor ==0:\n",
        "            return False\n",
        "        factor =factor+2\n",
        "    return True\n"
      ],
      "metadata": {
        "id": "PDomlz4v3ufF"
      },
      "execution_count": 48,
      "outputs": []
    },
    {
      "cell_type": "code",
      "source": [
        "is_prime(123)"
      ],
      "metadata": {
        "colab": {
          "base_uri": "https://localhost:8080/"
        },
        "id": "5Sc78gimAu6T",
        "outputId": "2b96423e-7704-42e7-e176-8e8e9fb1b164"
      },
      "execution_count": 49,
      "outputs": [
        {
          "output_type": "execute_result",
          "data": {
            "text/plain": [
              "False"
            ]
          },
          "metadata": {},
          "execution_count": 49
        }
      ]
    },
    {
      "cell_type": "code",
      "source": [
        "def euler10_001(lim:int) ->int:\n",
        "    tot =0\n",
        "    for n in range(2,lim):\n",
        "        if is_prime(n):\n",
        "            tot +=n\n",
        "    return tot"
      ],
      "metadata": {
        "id": "1nnK2j3vAzzH"
      },
      "execution_count": 55,
      "outputs": []
    },
    {
      "cell_type": "code",
      "source": [
        "euler10_001(2000000)"
      ],
      "metadata": {
        "colab": {
          "base_uri": "https://localhost:8080/"
        },
        "id": "tcixU3mZCZWi",
        "outputId": "d510d963-32d6-43d3-ae8f-91187f1a4939"
      },
      "execution_count": 56,
      "outputs": [
        {
          "output_type": "execute_result",
          "data": {
            "text/plain": [
              "142913828922"
            ]
          },
          "metadata": {},
          "execution_count": 56
        }
      ]
    },
    {
      "cell_type": "code",
      "source": [
        "euler10_001(100)"
      ],
      "metadata": {
        "colab": {
          "base_uri": "https://localhost:8080/"
        },
        "id": "7Cmy_aMKBfPH",
        "outputId": "59793475-c6a8-4796-90f5-fb29faaa2e95"
      },
      "execution_count": 57,
      "outputs": [
        {
          "output_type": "execute_result",
          "data": {
            "text/plain": [
              "1060"
            ]
          },
          "metadata": {},
          "execution_count": 57
        }
      ]
    },
    {
      "cell_type": "code",
      "source": [
        "euler10_001(2*10**6)"
      ],
      "metadata": {
        "colab": {
          "base_uri": "https://localhost:8080/"
        },
        "id": "ji0cNdivBi-G",
        "outputId": "746cea39-94d8-494b-8a41-95b4ee65b786"
      },
      "execution_count": 58,
      "outputs": [
        {
          "output_type": "execute_result",
          "data": {
            "text/plain": [
              "142913828922"
            ]
          },
          "metadata": {},
          "execution_count": 58
        }
      ]
    },
    {
      "cell_type": "code",
      "source": [
        "euler10_001(900)"
      ],
      "metadata": {
        "colab": {
          "base_uri": "https://localhost:8080/"
        },
        "id": "Ttphf83VBx-z",
        "outputId": "5d0c228d-3c5a-4657-9862-9e6f691604bb"
      },
      "execution_count": 53,
      "outputs": [
        {
          "output_type": "execute_result",
          "data": {
            "text/plain": [
              "1060"
            ]
          },
          "metadata": {},
          "execution_count": 53
        }
      ]
    },
    {
      "cell_type": "code",
      "source": [
        "primer =600851475143"
      ],
      "metadata": {
        "id": "KxmNRW9nB5wN"
      },
      "execution_count": 59,
      "outputs": []
    },
    {
      "cell_type": "code",
      "source": [
        "def factorize(n:int) ->int:\n",
        "    factors=[]\n",
        "    factor=2\n",
        "    while n%factor ==0:\n",
        "        factors.append (factor)\n",
        "        n//= factor\n",
        "    factor=3\n",
        "    while n>1:\n",
        "        while n%factor==0:\n",
        "            factors.append (factor)\n",
        "            n//= factor\n",
        "        factor+=2\n",
        "    return max(factors)"
      ],
      "metadata": {
        "id": "NJI_9KT5H_wM"
      },
      "execution_count": 72,
      "outputs": []
    },
    {
      "cell_type": "code",
      "source": [
        "factorize(10)"
      ],
      "metadata": {
        "colab": {
          "base_uri": "https://localhost:8080/"
        },
        "id": "ctQoiXN3OMG8",
        "outputId": "7bda16db-8d6a-4451-9542-b7efe55ff64e"
      },
      "execution_count": 73,
      "outputs": [
        {
          "output_type": "execute_result",
          "data": {
            "text/plain": [
              "5"
            ]
          },
          "metadata": {},
          "execution_count": 73
        }
      ]
    },
    {
      "cell_type": "code",
      "source": [
        "factorize(primer)"
      ],
      "metadata": {
        "colab": {
          "base_uri": "https://localhost:8080/"
        },
        "id": "u5gLrALtRVKP",
        "outputId": "169b0e3d-24d0-46b4-ee48-b84503aa50cb"
      },
      "execution_count": 74,
      "outputs": [
        {
          "output_type": "execute_result",
          "data": {
            "text/plain": [
              "6857"
            ]
          },
          "metadata": {},
          "execution_count": 74
        }
      ]
    },
    {
      "cell_type": "code",
      "source": [
        ""
      ],
      "metadata": {
        "id": "ojZ6cG7NRX6A"
      },
      "execution_count": null,
      "outputs": []
    },
    {
      "cell_type": "markdown",
      "source": [
        "Kaprekars\n"
      ],
      "metadata": {
        "id": "4tgNqXVgrZaM"
      }
    },
    {
      "cell_type": "code",
      "source": [
        "def splitter(n:[int]) ->int:\n",
        "    digits=[]\n",
        "    while n>0:\n",
        "        digits.append(n%10)\n",
        "        n //=10\n",
        "    return digits\n",
        "    print (digits)"
      ],
      "metadata": {
        "id": "ovsv3m7UrbbE"
      },
      "execution_count": 97,
      "outputs": []
    },
    {
      "cell_type": "code",
      "source": [
        "splitter(1234)"
      ],
      "metadata": {
        "colab": {
          "base_uri": "https://localhost:8080/"
        },
        "id": "Vd3Kai5isPtj",
        "outputId": "21049455-0e10-4480-be27-4a9d1b57e1b8"
      },
      "execution_count": 98,
      "outputs": [
        {
          "output_type": "execute_result",
          "data": {
            "text/plain": [
              "[4, 3, 2, 1]"
            ]
          },
          "metadata": {},
          "execution_count": 98
        }
      ]
    },
    {
      "cell_type": "code",
      "source": [
        "def allnum(set:[int]) ->int:\n",
        "    num = 0\n",
        "    for d in set:\n",
        "        num = num*10+d\n",
        "    return num"
      ],
      "metadata": {
        "id": "_0XLlBjysSJb"
      },
      "execution_count": 99,
      "outputs": []
    },
    {
      "cell_type": "code",
      "source": [
        "allnum([1,2,3,4])"
      ],
      "metadata": {
        "colab": {
          "base_uri": "https://localhost:8080/"
        },
        "id": "UB6yNw3vvGMY",
        "outputId": "4cdbbf77-86d2-41d3-c87a-fa84690d1cc9"
      },
      "execution_count": 83,
      "outputs": [
        {
          "output_type": "execute_result",
          "data": {
            "text/plain": [
              "1234"
            ]
          },
          "metadata": {},
          "execution_count": 83
        }
      ]
    },
    {
      "cell_type": "code",
      "source": [
        "def next_kap(n:int) ->int:\n",
        "    largest = allnum(sorted(splitter(n), reverse=True))\n",
        "\n",
        "    smallest = allnum(sorted(splitter(n)))\n",
        "    return(largest - smallest)"
      ],
      "metadata": {
        "id": "xHlRH2_BvcFO"
      },
      "execution_count": 88,
      "outputs": []
    },
    {
      "cell_type": "code",
      "source": [
        "next_kap(1234)"
      ],
      "metadata": {
        "colab": {
          "base_uri": "https://localhost:8080/"
        },
        "id": "dyMG_g9Owbsg",
        "outputId": "541c51db-1e5e-4a07-bd96-8dbf26afec2d"
      },
      "execution_count": 89,
      "outputs": [
        {
          "output_type": "execute_result",
          "data": {
            "text/plain": [
              "3087"
            ]
          },
          "metadata": {},
          "execution_count": 89
        }
      ]
    },
    {
      "cell_type": "code",
      "source": [
        "def kap_seq(k:int) ->[int]:\n",
        "    seq = [k]\n",
        "    s= next_kap(k)\n",
        "    while s not in seq:\n",
        "        seq.append(s)\n",
        "        s = next_kap(s)\n",
        "    return seq\n"
      ],
      "metadata": {
        "id": "joBwWI05wfVF"
      },
      "execution_count": 91,
      "outputs": []
    },
    {
      "cell_type": "code",
      "source": [
        "kap_seq(1234)"
      ],
      "metadata": {
        "colab": {
          "base_uri": "https://localhost:8080/"
        },
        "id": "rHGq-_3NyUlP",
        "outputId": "654fb549-7b1d-4d2c-f1c3-7d95f880506c"
      },
      "execution_count": 92,
      "outputs": [
        {
          "output_type": "execute_result",
          "data": {
            "text/plain": [
              "[1234, 3087, 8352, 6174]"
            ]
          },
          "metadata": {},
          "execution_count": 92
        }
      ]
    },
    {
      "cell_type": "code",
      "source": [
        "kap_seq(3524)"
      ],
      "metadata": {
        "colab": {
          "base_uri": "https://localhost:8080/"
        },
        "id": "AHNqVMiFyd7-",
        "outputId": "fccda2b2-746f-413d-fc3c-7ada371ba0a1"
      },
      "execution_count": 93,
      "outputs": [
        {
          "output_type": "execute_result",
          "data": {
            "text/plain": [
              "[3524, 3087, 8352, 6174]"
            ]
          },
          "metadata": {},
          "execution_count": 93
        }
      ]
    },
    {
      "cell_type": "code",
      "source": [
        "kap_seq(1945)"
      ],
      "metadata": {
        "colab": {
          "base_uri": "https://localhost:8080/"
        },
        "id": "qHPw4UtIypXK",
        "outputId": "620a65dc-853a-401e-b849-2aff13cc6dac"
      },
      "execution_count": 94,
      "outputs": [
        {
          "output_type": "execute_result",
          "data": {
            "text/plain": [
              "[1945, 8082, 8532, 6174]"
            ]
          },
          "metadata": {},
          "execution_count": 94
        }
      ]
    },
    {
      "cell_type": "code",
      "source": [
        "kap_seq(676)"
      ],
      "metadata": {
        "colab": {
          "base_uri": "https://localhost:8080/"
        },
        "id": "SK-iU0muyum0",
        "outputId": "149772de-3ce2-4213-9af6-8b2c7ae56a96"
      },
      "execution_count": 95,
      "outputs": [
        {
          "output_type": "execute_result",
          "data": {
            "text/plain": [
              "[676, 99, 0]"
            ]
          },
          "metadata": {},
          "execution_count": 95
        }
      ]
    },
    {
      "cell_type": "code",
      "source": [
        "kap_seq(23456)"
      ],
      "metadata": {
        "colab": {
          "base_uri": "https://localhost:8080/"
        },
        "id": "-qqcqU7RyxbV",
        "outputId": "d00783b9-2a9a-4c76-c983-033654d3e6f6"
      },
      "execution_count": 100,
      "outputs": [
        {
          "output_type": "execute_result",
          "data": {
            "text/plain": [
              "[23456, 41976, 82962, 75933, 63954, 61974]"
            ]
          },
          "metadata": {},
          "execution_count": 100
        }
      ]
    },
    {
      "cell_type": "markdown",
      "source": [
        "FizzBuzz"
      ],
      "metadata": {
        "id": "Mf_hbLEw8t3G"
      }
    },
    {
      "cell_type": "code",
      "source": [
        "def fizbuz(N:int) ->[int]:\n",
        "    b = N\n",
        "    if N % 3 ==0:\n",
        "        b = \"Fizz\"\n",
        "    if N % 5 ==0:\n",
        "        b = \"Buzz\"\n",
        "    if N % 15 == 0:\n",
        "        b = \"FizzBuzz\"\n",
        "    print(b)"
      ],
      "metadata": {
        "id": "tn9zQQbY8wP-"
      },
      "execution_count": 142,
      "outputs": []
    },
    {
      "cell_type": "code",
      "source": [
        "fizbuz(25)"
      ],
      "metadata": {
        "colab": {
          "base_uri": "https://localhost:8080/"
        },
        "id": "SR2jUbOu-WiE",
        "outputId": "44df6467-72d7-4fde-a36e-6eb4fb3f0667"
      },
      "execution_count": 146,
      "outputs": [
        {
          "output_type": "stream",
          "name": "stdout",
          "text": [
            "Buzz\n"
          ]
        }
      ]
    },
    {
      "cell_type": "code",
      "source": [
        "fizbuz(9)"
      ],
      "metadata": {
        "colab": {
          "base_uri": "https://localhost:8080/"
        },
        "id": "b2ReOKt1-r6_",
        "outputId": "bf4f5f1e-d649-4451-f371-69fa047d7cca"
      },
      "execution_count": 145,
      "outputs": [
        {
          "output_type": "stream",
          "name": "stdout",
          "text": [
            "Fizz\n"
          ]
        }
      ]
    },
    {
      "cell_type": "code",
      "source": [
        "fizbuz(15)"
      ],
      "metadata": {
        "colab": {
          "base_uri": "https://localhost:8080/"
        },
        "id": "VOX26xLl_kSc",
        "outputId": "89b51606-fd49-4851-ff1b-b40899089bc9"
      },
      "execution_count": 144,
      "outputs": [
        {
          "output_type": "stream",
          "name": "stdout",
          "text": [
            "FizzBuzz\n"
          ]
        }
      ]
    },
    {
      "cell_type": "code",
      "source": [
        "fizbuz(13)"
      ],
      "metadata": {
        "colab": {
          "base_uri": "https://localhost:8080/"
        },
        "id": "Sv6CqXz-_nP3",
        "outputId": "493a8012-cf32-4d4b-8c44-77dc88844ff0"
      },
      "execution_count": 143,
      "outputs": [
        {
          "output_type": "stream",
          "name": "stdout",
          "text": [
            "13\n"
          ]
        }
      ]
    },
    {
      "cell_type": "code",
      "source": [
        "fizbuz(3)"
      ],
      "metadata": {
        "colab": {
          "base_uri": "https://localhost:8080/"
        },
        "id": "CP6qCrTPBw-2",
        "outputId": "7085d2f9-6dd4-4a06-ed97-e8f01a48204a"
      },
      "execution_count": 147,
      "outputs": [
        {
          "output_type": "stream",
          "name": "stdout",
          "text": [
            "Fizz\n"
          ]
        }
      ]
    },
    {
      "cell_type": "code",
      "source": [
        "def fizbuzlist(N:int) ->[int]:\n",
        "    mlist = []\n",
        "    for g in range(1,N,1):\n",
        "        mlist.append (fizbuz(g))\n",
        "    return(mlist)"
      ],
      "metadata": {
        "id": "fKbKxWp8At4Y"
      },
      "execution_count": 148,
      "outputs": []
    },
    {
      "cell_type": "code",
      "source": [
        "fizbuzlist(45)"
      ],
      "metadata": {
        "colab": {
          "base_uri": "https://localhost:8080/"
        },
        "id": "232dQlhaBS80",
        "outputId": "9956583a-900f-44e2-8f6b-1ce09eca771e"
      },
      "execution_count": 150,
      "outputs": [
        {
          "output_type": "stream",
          "name": "stdout",
          "text": [
            "1\n",
            "2\n",
            "Fizz\n",
            "4\n",
            "Buzz\n",
            "Fizz\n",
            "7\n",
            "8\n",
            "Fizz\n",
            "Buzz\n",
            "11\n",
            "Fizz\n",
            "13\n",
            "14\n",
            "FizzBuzz\n",
            "16\n",
            "17\n",
            "Fizz\n",
            "19\n",
            "Buzz\n",
            "Fizz\n",
            "22\n",
            "23\n",
            "Fizz\n",
            "Buzz\n",
            "26\n",
            "Fizz\n",
            "28\n",
            "29\n",
            "FizzBuzz\n",
            "31\n",
            "32\n",
            "Fizz\n",
            "34\n",
            "Buzz\n",
            "Fizz\n",
            "37\n",
            "38\n",
            "Fizz\n",
            "Buzz\n",
            "41\n",
            "Fizz\n",
            "43\n",
            "44\n"
          ]
        },
        {
          "output_type": "execute_result",
          "data": {
            "text/plain": [
              "[None,\n",
              " None,\n",
              " None,\n",
              " None,\n",
              " None,\n",
              " None,\n",
              " None,\n",
              " None,\n",
              " None,\n",
              " None,\n",
              " None,\n",
              " None,\n",
              " None,\n",
              " None,\n",
              " None,\n",
              " None,\n",
              " None,\n",
              " None,\n",
              " None,\n",
              " None,\n",
              " None,\n",
              " None,\n",
              " None,\n",
              " None,\n",
              " None,\n",
              " None,\n",
              " None,\n",
              " None,\n",
              " None,\n",
              " None,\n",
              " None,\n",
              " None,\n",
              " None,\n",
              " None,\n",
              " None,\n",
              " None,\n",
              " None,\n",
              " None,\n",
              " None,\n",
              " None,\n",
              " None,\n",
              " None,\n",
              " None,\n",
              " None]"
            ]
          },
          "metadata": {},
          "execution_count": 150
        }
      ]
    },
    {
      "cell_type": "code",
      "source": [
        ""
      ],
      "metadata": {
        "id": "OE9rfFR0BWNA"
      },
      "execution_count": null,
      "outputs": []
    }
  ]
}