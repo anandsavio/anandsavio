{
  "nbformat": 4,
  "nbformat_minor": 0,
  "metadata": {
    "colab": {
      "name": "CDS030422.ipynb",
      "provenance": [],
      "authorship_tag": "ABX9TyPYf2aCfxaZleqIYm6wvoFD",
      "include_colab_link": true
    },
    "kernelspec": {
      "name": "python3",
      "display_name": "Python 3"
    },
    "language_info": {
      "name": "python"
    }
  },
  "cells": [
    {
      "cell_type": "markdown",
      "metadata": {
        "id": "view-in-github",
        "colab_type": "text"
      },
      "source": [
        "<a href=\"https://colab.research.google.com/github/anandsavio/anandsavio/blob/main/CDS030422.ipynb\" target=\"_parent\"><img src=\"https://colab.research.google.com/assets/colab-badge.svg\" alt=\"Open In Colab\"/></a>"
      ]
    },
    {
      "cell_type": "code",
      "execution_count": 1,
      "metadata": {
        "id": "7nwmvk9Hn6y_"
      },
      "outputs": [],
      "source": [
        "limit = 10"
      ]
    },
    {
      "cell_type": "code",
      "source": [
        "print(limit)"
      ],
      "metadata": {
        "colab": {
          "base_uri": "https://localhost:8080/"
        },
        "id": "5HR_RM3An9PA",
        "outputId": "aa44d056-c49a-4910-d766-7af7649c45ea"
      },
      "execution_count": 2,
      "outputs": [
        {
          "output_type": "stream",
          "name": "stdout",
          "text": [
            "10\n"
          ]
        }
      ]
    },
    {
      "cell_type": "code",
      "source": [
        "num,total =1,0\n",
        "while num<limit:\n",
        "  if num%3==0 or num%5==0:\n",
        "    total+=num\n",
        "    num=num+1\n",
        "return total"
      ],
      "metadata": {
        "colab": {
          "base_uri": "https://localhost:8080/",
          "height": 236
        },
        "id": "B1LwHcUNn_XT",
        "outputId": "b3e81e9d-e5d3-403d-ab8b-bdd88f3ec978"
      },
      "execution_count": 3,
      "outputs": [
        {
          "output_type": "error",
          "ename": "KeyboardInterrupt",
          "evalue": "ignored",
          "traceback": [
            "\u001b[0;31m---------------------------------------------------------------------------\u001b[0m",
            "\u001b[0;31mKeyboardInterrupt\u001b[0m                         Traceback (most recent call last)",
            "\u001b[0;32m<ipython-input-3-961e51b4e113>\u001b[0m in \u001b[0;36m<module>\u001b[0;34m()\u001b[0m\n\u001b[1;32m      1\u001b[0m \u001b[0mnum\u001b[0m\u001b[0;34m,\u001b[0m\u001b[0mtotal\u001b[0m \u001b[0;34m=\u001b[0m\u001b[0;36m1\u001b[0m\u001b[0;34m,\u001b[0m\u001b[0;36m0\u001b[0m\u001b[0;34m\u001b[0m\u001b[0;34m\u001b[0m\u001b[0m\n\u001b[0;32m----> 2\u001b[0;31m \u001b[0;32mwhile\u001b[0m \u001b[0mnum\u001b[0m\u001b[0;34m<\u001b[0m\u001b[0mlimit\u001b[0m\u001b[0;34m:\u001b[0m\u001b[0;34m\u001b[0m\u001b[0;34m\u001b[0m\u001b[0m\n\u001b[0m\u001b[1;32m      3\u001b[0m   \u001b[0;32mif\u001b[0m \u001b[0mnum\u001b[0m\u001b[0;34m%\u001b[0m\u001b[0;36m3\u001b[0m\u001b[0;34m==\u001b[0m\u001b[0;36m0\u001b[0m \u001b[0;32mor\u001b[0m \u001b[0mnum\u001b[0m\u001b[0;34m%\u001b[0m\u001b[0;36m5\u001b[0m\u001b[0;34m==\u001b[0m\u001b[0;36m0\u001b[0m\u001b[0;34m:\u001b[0m\u001b[0;34m\u001b[0m\u001b[0;34m\u001b[0m\u001b[0m\n\u001b[1;32m      4\u001b[0m     \u001b[0mtotal\u001b[0m\u001b[0;34m+=\u001b[0m\u001b[0mnum\u001b[0m\u001b[0;34m\u001b[0m\u001b[0;34m\u001b[0m\u001b[0m\n\u001b[1;32m      5\u001b[0m     \u001b[0mnum\u001b[0m\u001b[0;34m=\u001b[0m\u001b[0mnum\u001b[0m\u001b[0;34m+\u001b[0m\u001b[0;36m1\u001b[0m\u001b[0;34m\u001b[0m\u001b[0;34m\u001b[0m\u001b[0m\n",
            "\u001b[0;31mKeyboardInterrupt\u001b[0m: "
          ]
        }
      ]
    },
    {
      "cell_type": "code",
      "source": [
        "!python--version"
      ],
      "metadata": {
        "colab": {
          "base_uri": "https://localhost:8080/"
        },
        "id": "QYIwuQXuoAw0",
        "outputId": "d42a9a89-4dde-45b1-eac2-e159e9bc7221"
      },
      "execution_count": 5,
      "outputs": [
        {
          "output_type": "stream",
          "name": "stdout",
          "text": [
            "/bin/bash: python--version: command not found\n"
          ]
        }
      ]
    },
    {
      "cell_type": "code",
      "source": [
        "!python --version"
      ],
      "metadata": {
        "colab": {
          "base_uri": "https://localhost:8080/"
        },
        "id": "2pdBHr8ArViw",
        "outputId": "9d438c04-aae6-4565-91b0-9ec36beca8bc"
      },
      "execution_count": 6,
      "outputs": [
        {
          "output_type": "stream",
          "name": "stdout",
          "text": [
            "Python 3.7.13\n"
          ]
        }
      ]
    },
    {
      "cell_type": "code",
      "source": [
        "limit =100"
      ],
      "metadata": {
        "id": "-9HqT_4LsdyM"
      },
      "execution_count": 7,
      "outputs": []
    },
    {
      "cell_type": "code",
      "source": [
        "print(limit)"
      ],
      "metadata": {
        "colab": {
          "base_uri": "https://localhost:8080/"
        },
        "id": "acgofZz6sgxv",
        "outputId": "23c72b81-3a9b-4164-8400-bc04686b7924"
      },
      "execution_count": 8,
      "outputs": [
        {
          "output_type": "stream",
          "name": "stdout",
          "text": [
            "100\n"
          ]
        }
      ]
    },
    {
      "cell_type": "code",
      "source": [
        "num,total = 1,0\n",
        "while num<100:\n",
        "    num=num+1\n",
        "    if num%5==0:\n",
        "        total+=num\n",
        "return(total)\n",
        "print(total)"
      ],
      "metadata": {
        "colab": {
          "base_uri": "https://localhost:8080/",
          "height": 131
        },
        "id": "QExVcLwLsi7a",
        "outputId": "57423917-f93d-45f6-b384-b22d35461854"
      },
      "execution_count": 16,
      "outputs": [
        {
          "output_type": "error",
          "ename": "SyntaxError",
          "evalue": "ignored",
          "traceback": [
            "\u001b[0;36m  File \u001b[0;32m\"<ipython-input-16-8319b7061bcb>\"\u001b[0;36m, line \u001b[0;32m6\u001b[0m\n\u001b[0;31m    return(total)\u001b[0m\n\u001b[0m                 ^\u001b[0m\n\u001b[0;31mSyntaxError\u001b[0m\u001b[0;31m:\u001b[0m 'return' outside function\n"
          ]
        }
      ]
    },
    {
      "cell_type": "code",
      "source": [
        "num,total = 1,0"
      ],
      "metadata": {
        "id": "RbgGBFFftB3l"
      },
      "execution_count": 22,
      "outputs": []
    },
    {
      "cell_type": "code",
      "source": [
        "while num<1000:\n",
        "    num=num+1\n",
        "    if num%3==0 or num%5==0:\n",
        "        total+=num\n",
        "print(total)"
      ],
      "metadata": {
        "colab": {
          "base_uri": "https://localhost:8080/"
        },
        "id": "UDBZ6LnQyhYO",
        "outputId": "62f8dc09-7709-46ad-904c-aaad2aa59203"
      },
      "execution_count": 24,
      "outputs": [
        {
          "output_type": "stream",
          "name": "stdout",
          "text": [
            "234168\n"
          ]
        }
      ]
    },
    {
      "cell_type": "code",
      "source": [
        "def euler1_005(limit:int) ->int:\n",
        "    total= sum(range(3,limit,3))+sum(range(5,limit,5))-sum(range(15,limit,15))\n",
        "    print(total)"
      ],
      "metadata": {
        "id": "NOlbr2nwywn4"
      },
      "execution_count": 28,
      "outputs": []
    },
    {
      "cell_type": "code",
      "source": [
        "euler1_005(1000)"
      ],
      "metadata": {
        "colab": {
          "base_uri": "https://localhost:8080/",
          "height": 166
        },
        "id": "dzK7TbEGz276",
        "outputId": "c427662d-7ed8-4859-b465-847b103c0eaf"
      },
      "execution_count": 30,
      "outputs": [
        {
          "output_type": "error",
          "ename": "TypeError",
          "evalue": "ignored",
          "traceback": [
            "\u001b[0;31m---------------------------------------------------------------------------\u001b[0m",
            "\u001b[0;31mTypeError\u001b[0m                                 Traceback (most recent call last)",
            "\u001b[0;32m<ipython-input-30-44ec80af8c64>\u001b[0m in \u001b[0;36m<module>\u001b[0;34m()\u001b[0m\n\u001b[0;32m----> 1\u001b[0;31m \u001b[0meuler1_005\u001b[0m\u001b[0;34m(\u001b[0m\u001b[0;36m1000\u001b[0m\u001b[0;34m)\u001b[0m\u001b[0;34m\u001b[0m\u001b[0;34m\u001b[0m\u001b[0m\n\u001b[0m",
            "\u001b[0;31mTypeError\u001b[0m: euler1_005() missing 1 required positional argument: 'int'"
          ]
        }
      ]
    },
    {
      "cell_type": "code",
      "source": [
        "def euler1_005(limit:int) ->int:\n",
        "    total= sum(range(3,limit,3))+sum(range(5,limit,5))-sum(range(15,limit,15))\n",
        "    print(total)"
      ],
      "metadata": {
        "id": "VfhBlw8t0MqN"
      },
      "execution_count": 31,
      "outputs": []
    },
    {
      "cell_type": "code",
      "source": [
        "euler1_005(1000)"
      ],
      "metadata": {
        "colab": {
          "base_uri": "https://localhost:8080/"
        },
        "id": "txhAI4uD0ad9",
        "outputId": "06c1aa6b-7a0b-4096-ceb4-cedcadc43f8b"
      },
      "execution_count": 32,
      "outputs": [
        {
          "output_type": "stream",
          "name": "stdout",
          "text": [
            "233168\n"
          ]
        }
      ]
    },
    {
      "cell_type": "code",
      "source": [
        "def euler1_001(limit:int) ->int:\n",
        "    num,tot = 1,0\n",
        "    while num<limit:\n",
        "        if num%5==0 or num%3==0:\n",
        "            tot +=num\n",
        "        num = num+1\n",
        "    return(tot)"
      ],
      "metadata": {
        "id": "hEutmhCt0iY1"
      },
      "execution_count": 33,
      "outputs": []
    },
    {
      "cell_type": "code",
      "source": [
        "euler1_001(limit)"
      ],
      "metadata": {
        "colab": {
          "base_uri": "https://localhost:8080/"
        },
        "id": "2jtswT_41XCx",
        "outputId": "6d827170-823c-4511-87f8-e4b1b93e621a"
      },
      "execution_count": 34,
      "outputs": [
        {
          "output_type": "execute_result",
          "data": {
            "text/plain": [
              "2318"
            ]
          },
          "metadata": {},
          "execution_count": 34
        }
      ]
    },
    {
      "cell_type": "code",
      "source": [
        "print(limit)"
      ],
      "metadata": {
        "colab": {
          "base_uri": "https://localhost:8080/"
        },
        "id": "znWQ7Ham1b_7",
        "outputId": "7618af8f-1932-4fc6-ebf8-91a162252dd9"
      },
      "execution_count": 35,
      "outputs": [
        {
          "output_type": "stream",
          "name": "stdout",
          "text": [
            "100\n"
          ]
        }
      ]
    },
    {
      "cell_type": "code",
      "source": [
        "euler1_001(1000)"
      ],
      "metadata": {
        "colab": {
          "base_uri": "https://localhost:8080/"
        },
        "id": "teO05LLp1e9C",
        "outputId": "4d87ee66-189d-4287-8047-9e908a719f32"
      },
      "execution_count": 36,
      "outputs": [
        {
          "output_type": "execute_result",
          "data": {
            "text/plain": [
              "233168"
            ]
          },
          "metadata": {},
          "execution_count": 36
        }
      ]
    },
    {
      "cell_type": "code",
      "source": [
        "def euler1_002(limit:int) ->int:\n",
        "    num,tot = 1,0\n",
        "    while num<limit:\n",
        "        if select(num):\n",
        "            tot +=num\n",
        "        num = num+1\n",
        "    return(tot)\n",
        "\n",
        "def select (n:int) ->bool:\n",
        "    return num%5 == 0 or num%3 == 0"
      ],
      "metadata": {
        "id": "Monm0ssp1iDT"
      },
      "execution_count": 45,
      "outputs": []
    },
    {
      "cell_type": "code",
      "source": [
        "euler1_002(limit)"
      ],
      "metadata": {
        "colab": {
          "base_uri": "https://localhost:8080/"
        },
        "id": "BriQYPcH3AgW",
        "outputId": "6e8c41e2-7ff3-4ebe-806b-84893047de52"
      },
      "execution_count": 46,
      "outputs": [
        {
          "output_type": "execute_result",
          "data": {
            "text/plain": [
              "4950"
            ]
          },
          "metadata": {},
          "execution_count": 46
        }
      ]
    },
    {
      "cell_type": "code",
      "source": [
        "euler1_002(1000)"
      ],
      "metadata": {
        "colab": {
          "base_uri": "https://localhost:8080/"
        },
        "id": "FLniQ2VC3q2r",
        "outputId": "e0143486-7031-4e06-d601-167a0a1c4d4b"
      },
      "execution_count": 47,
      "outputs": [
        {
          "output_type": "execute_result",
          "data": {
            "text/plain": [
              "499500"
            ]
          },
          "metadata": {},
          "execution_count": 47
        }
      ]
    },
    {
      "cell_type": "code",
      "source": [
        "#euler 10 find sum of  primes\n",
        "\n",
        "def is_prime(n:int) ->bool:\n",
        "    if n<2:\n",
        "        return False\n",
        "    if n in [2,3,5]:\n",
        "        return True\n",
        "    if n % 2 ==0:\n",
        "        return False\n",
        "    factor = 3\n",
        "    while factor*factor <=n:\n",
        "        if n % factor ==0:\n",
        "            return False\n",
        "        factor =factor+2\n",
        "    return True\n"
      ],
      "metadata": {
        "id": "PDomlz4v3ufF"
      },
      "execution_count": 48,
      "outputs": []
    },
    {
      "cell_type": "code",
      "source": [
        "is_prime(123)"
      ],
      "metadata": {
        "colab": {
          "base_uri": "https://localhost:8080/"
        },
        "id": "5Sc78gimAu6T",
        "outputId": "2b96423e-7704-42e7-e176-8e8e9fb1b164"
      },
      "execution_count": 49,
      "outputs": [
        {
          "output_type": "execute_result",
          "data": {
            "text/plain": [
              "False"
            ]
          },
          "metadata": {},
          "execution_count": 49
        }
      ]
    },
    {
      "cell_type": "code",
      "source": [
        "def euler10_001(lim:int) ->int:\n",
        "    tot =0\n",
        "    for n in range(2,lim):\n",
        "        if is_prime(n):\n",
        "            tot +=n\n",
        "    return tot"
      ],
      "metadata": {
        "id": "1nnK2j3vAzzH"
      },
      "execution_count": 55,
      "outputs": []
    },
    {
      "cell_type": "code",
      "source": [
        "euler10_001(2000000)"
      ],
      "metadata": {
        "colab": {
          "base_uri": "https://localhost:8080/"
        },
        "id": "tcixU3mZCZWi",
        "outputId": "d510d963-32d6-43d3-ae8f-91187f1a4939"
      },
      "execution_count": 56,
      "outputs": [
        {
          "output_type": "execute_result",
          "data": {
            "text/plain": [
              "142913828922"
            ]
          },
          "metadata": {},
          "execution_count": 56
        }
      ]
    },
    {
      "cell_type": "code",
      "source": [
        "euler10_001(100)"
      ],
      "metadata": {
        "colab": {
          "base_uri": "https://localhost:8080/"
        },
        "id": "7Cmy_aMKBfPH",
        "outputId": "59793475-c6a8-4796-90f5-fb29faaa2e95"
      },
      "execution_count": 57,
      "outputs": [
        {
          "output_type": "execute_result",
          "data": {
            "text/plain": [
              "1060"
            ]
          },
          "metadata": {},
          "execution_count": 57
        }
      ]
    },
    {
      "cell_type": "code",
      "source": [
        "euler10_001(2*10**6)"
      ],
      "metadata": {
        "colab": {
          "base_uri": "https://localhost:8080/"
        },
        "id": "ji0cNdivBi-G",
        "outputId": "746cea39-94d8-494b-8a41-95b4ee65b786"
      },
      "execution_count": 58,
      "outputs": [
        {
          "output_type": "execute_result",
          "data": {
            "text/plain": [
              "142913828922"
            ]
          },
          "metadata": {},
          "execution_count": 58
        }
      ]
    },
    {
      "cell_type": "code",
      "source": [
        "euler10_001(900)"
      ],
      "metadata": {
        "colab": {
          "base_uri": "https://localhost:8080/"
        },
        "id": "Ttphf83VBx-z",
        "outputId": "5d0c228d-3c5a-4657-9862-9e6f691604bb"
      },
      "execution_count": 53,
      "outputs": [
        {
          "output_type": "execute_result",
          "data": {
            "text/plain": [
              "1060"
            ]
          },
          "metadata": {},
          "execution_count": 53
        }
      ]
    },
    {
      "cell_type": "code",
      "source": [
        ""
      ],
      "metadata": {
        "id": "KxmNRW9nB5wN"
      },
      "execution_count": null,
      "outputs": []
    }
  ]
}