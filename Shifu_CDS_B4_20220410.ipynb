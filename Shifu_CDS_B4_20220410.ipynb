{
  "nbformat": 4,
  "nbformat_minor": 0,
  "metadata": {
    "colab": {
      "name": "CDS-B4-20220410.ipynb",
      "private_outputs": true,
      "provenance": [],
      "collapsed_sections": [],
      "include_colab_link": true
    },
    "kernelspec": {
      "name": "python3",
      "display_name": "Python 3"
    },
    "language_info": {
      "name": "python"
    }
  },
  "cells": [
    {
      "cell_type": "markdown",
      "metadata": {
        "id": "view-in-github",
        "colab_type": "text"
      },
      "source": [
        "<a href=\"https://colab.research.google.com/github/anandsavio/anandsavio/blob/main/Shifu_CDS_B4_20220410.ipynb\" target=\"_parent\"><img src=\"https://colab.research.google.com/assets/colab-badge.svg\" alt=\"Open In Colab\"/></a>"
      ]
    },
    {
      "cell_type": "code",
      "execution_count": null,
      "metadata": {
        "id": "uJnXWKrBj8VM"
      },
      "outputs": [],
      "source": [
        "def multi():\n",
        "    return 5, \"Hello\", True"
      ]
    },
    {
      "cell_type": "code",
      "source": [
        "t = multi()"
      ],
      "metadata": {
        "id": "Uqoc_ZqakLaz"
      },
      "execution_count": null,
      "outputs": []
    },
    {
      "cell_type": "code",
      "source": [
        "t[0]"
      ],
      "metadata": {
        "id": "z3ty27ckkQPO"
      },
      "execution_count": null,
      "outputs": []
    },
    {
      "cell_type": "code",
      "source": [
        "t[1]"
      ],
      "metadata": {
        "id": "2S-Ib5KFkTnI"
      },
      "execution_count": null,
      "outputs": []
    },
    {
      "cell_type": "code",
      "source": [
        "n, s, b = multi()"
      ],
      "metadata": {
        "id": "nKpyUbrNkU5q"
      },
      "execution_count": null,
      "outputs": []
    },
    {
      "cell_type": "code",
      "source": [
        "def bad(a: bool) -> int:\n",
        "    if a > 7:\n",
        "        return \"Hello\"\n",
        "    else:\n",
        "        return \"World\""
      ],
      "metadata": {
        "id": "7TiXKGaAkZ0w"
      },
      "execution_count": null,
      "outputs": []
    },
    {
      "cell_type": "code",
      "source": [
        "bad(10)"
      ],
      "metadata": {
        "id": "mlYvTvYvlGcP"
      },
      "execution_count": null,
      "outputs": []
    },
    {
      "cell_type": "markdown",
      "source": [
        "## Functional Programming\n",
        "  * map\n",
        "  * filter\n",
        "  * reduce\n",
        "  * list comprehensions"
      ],
      "metadata": {
        "id": "IqrHx7oulHat"
      }
    },
    {
      "cell_type": "code",
      "source": [
        "def digits(n: int) -> [int]:\n",
        "    ds = []\n",
        "    while n > 0:\n",
        "        ds.insert(0, n % 10)\n",
        "        n //= 10\n",
        "    return ds"
      ],
      "metadata": {
        "id": "bZBTp-Etm9OW"
      },
      "execution_count": null,
      "outputs": []
    },
    {
      "cell_type": "code",
      "source": [
        "digits(1729)"
      ],
      "metadata": {
        "id": "xH3CqKe6nUcC"
      },
      "execution_count": null,
      "outputs": []
    },
    {
      "cell_type": "code",
      "source": [
        "def fbs(limit: int) -> [int]:\n",
        "    fb = []\n",
        "    for i in range(1, limit + 1):\n",
        "        fb.append(fizzbuzz01(i))\n",
        "    return fb"
      ],
      "metadata": {
        "id": "t6XOHzjQnWTn"
      },
      "execution_count": null,
      "outputs": []
    },
    {
      "cell_type": "code",
      "source": [
        "def fdigits(n: int) -> [int]:\n",
        "    return map(int, str(n))"
      ],
      "metadata": {
        "id": "9bp-h97Yn_nC"
      },
      "execution_count": null,
      "outputs": []
    },
    {
      "cell_type": "code",
      "source": [
        "fdigits(1729)"
      ],
      "metadata": {
        "id": "aogU-sAsoPu-"
      },
      "execution_count": null,
      "outputs": []
    },
    {
      "cell_type": "code",
      "source": [
        "list(fdigits(1729))"
      ],
      "metadata": {
        "id": "fFCzQjyQoUCm"
      },
      "execution_count": null,
      "outputs": []
    },
    {
      "cell_type": "markdown",
      "source": [
        "### map(f, S) ==> [f(S[0]), f(S[1]), ... f(S[-1])]"
      ],
      "metadata": {
        "id": "jFZh8M1moXGF"
      }
    },
    {
      "cell_type": "code",
      "source": [
        "def square(n: int) -> int:\n",
        "    return n * n"
      ],
      "metadata": {
        "id": "Dv1SF4cuojyU"
      },
      "execution_count": null,
      "outputs": []
    },
    {
      "cell_type": "code",
      "source": [
        "list(map(square, [2, 7, -3]))"
      ],
      "metadata": {
        "id": "n7xaqa8zo118"
      },
      "execution_count": null,
      "outputs": []
    },
    {
      "cell_type": "code",
      "source": [
        "for s in map(square, [2, 8, -12, 8, 9]):\n",
        "    print(s)"
      ],
      "metadata": {
        "id": "XXeARKl-o7Gc"
      },
      "execution_count": null,
      "outputs": []
    },
    {
      "cell_type": "code",
      "source": [
        "def select(n: int) -> bool:\n",
        "    return n % 3 == 0 or n % 5 == 0\n",
        "\n",
        "def euler1(limit: int) -> int:\n",
        "    total = 0\n",
        "    for n in range(1, limit):\n",
        "        if select(n):\n",
        "            total += n\n",
        "    return total"
      ],
      "metadata": {
        "id": "jz7Q-bunpQht"
      },
      "execution_count": null,
      "outputs": []
    },
    {
      "cell_type": "code",
      "source": [
        "sum(filter(select, range(1000)))"
      ],
      "metadata": {
        "id": "nMtX8gA4ry5f"
      },
      "execution_count": null,
      "outputs": []
    },
    {
      "cell_type": "code",
      "source": [
        "list(filter(select, range(10)))"
      ],
      "metadata": {
        "id": "OL_aYTzwr-De"
      },
      "execution_count": null,
      "outputs": []
    },
    {
      "cell_type": "markdown",
      "source": [
        "### filter(f, S) -> those elements of S for which f(s) is True"
      ],
      "metadata": {
        "id": "CerDuKyksPLt"
      }
    },
    {
      "cell_type": "code",
      "source": [
        "sl = select"
      ],
      "metadata": {
        "id": "rx49oifnsfkn"
      },
      "execution_count": null,
      "outputs": []
    },
    {
      "cell_type": "code",
      "source": [
        "sl(7)"
      ],
      "metadata": {
        "id": "OhuO9wqQtFku"
      },
      "execution_count": null,
      "outputs": []
    },
    {
      "cell_type": "code",
      "source": [
        "sl(10)"
      ],
      "metadata": {
        "id": "zRYHnFMltGwl"
      },
      "execution_count": null,
      "outputs": []
    },
    {
      "cell_type": "markdown",
      "source": [
        "$S' = \\{\\phi(x) | x \\in S, \\pi(x)\\}$\n",
        "\n",
        "$S' = map(\\phi, filter(\\pi, S))$\n",
        "\n",
        "$S' = [\\phi(x)~for~x~in~S~if~~\\pi(x)]$"
      ],
      "metadata": {
        "id": "fyy_A9Q3tH2A"
      }
    },
    {
      "cell_type": "code",
      "source": [
        "def lcdigits(n: int) -> [int]:\n",
        "    return [int(ch) for ch in str(n)]"
      ],
      "metadata": {
        "id": "SvxEtlReuvfT"
      },
      "execution_count": null,
      "outputs": []
    },
    {
      "cell_type": "markdown",
      "source": [
        "map(f, S) = [f(x) for x in S]\n",
        "\n",
        "filter(g, S) = [x for x in S if g(x)]\n",
        "\n",
        "lc = [f(x) for x in S if g(x)]"
      ],
      "metadata": {
        "id": "F_69aX-TwPQ5"
      }
    },
    {
      "cell_type": "code",
      "source": [
        "def even(k: int) -> bool:\n",
        "    return k % 2 == 0"
      ],
      "metadata": {
        "id": "32hR_p-Qwmlj"
      },
      "execution_count": null,
      "outputs": []
    },
    {
      "cell_type": "code",
      "source": [
        "def evendigits(n: int) -> [int]:\n",
        "    return [d for d in digits(n) if even(d)]"
      ],
      "metadata": {
        "id": "WiVM6n2VxfWI"
      },
      "execution_count": null,
      "outputs": []
    },
    {
      "cell_type": "code",
      "source": [
        "evendigits(17295634855)"
      ],
      "metadata": {
        "id": "mFbTYFYNx0Dv"
      },
      "execution_count": null,
      "outputs": []
    },
    {
      "cell_type": "code",
      "source": [
        "lcdigits(1729)"
      ],
      "metadata": {
        "id": "iHSPI0C9x4tl"
      },
      "execution_count": null,
      "outputs": []
    },
    {
      "cell_type": "code",
      "source": [
        "def euler1lc(limit: int) -> int:\n",
        "    return sum([x for x in range(limit) if select(x)])"
      ],
      "metadata": {
        "id": "FUyzQ13Ix983"
      },
      "execution_count": null,
      "outputs": []
    },
    {
      "cell_type": "code",
      "source": [
        "euler1lc(1000)"
      ],
      "metadata": {
        "id": "oIAGXQ47ye6U"
      },
      "execution_count": null,
      "outputs": []
    },
    {
      "cell_type": "code",
      "source": [
        "def fb_one(n: int) -> str:\n",
        "    if n % 3 == 0 and n % 5 == 0:\n",
        "        return \"FIZZBUZZ\"\n",
        "    if n % 3 == 0:\n",
        "        return \"FIZZ\"\n",
        "    if n % 5 == 0:\n",
        "        return \"BUZZ\"\n",
        "    return str(n)"
      ],
      "metadata": {
        "id": "iJ3jiUy9yhJ9"
      },
      "execution_count": null,
      "outputs": []
    },
    {
      "cell_type": "code",
      "source": [
        "def fizzbuzz(limit: int) -> [str]:\n",
        "    return [fb_one(i) for i in range(1, limit + 1)]"
      ],
      "metadata": {
        "id": "qKDgD4KXzkhj"
      },
      "execution_count": null,
      "outputs": []
    },
    {
      "cell_type": "code",
      "source": [
        "fizzbuzz(17)"
      ],
      "metadata": {
        "id": "EuB7H5xFztcB"
      },
      "execution_count": null,
      "outputs": []
    },
    {
      "cell_type": "markdown",
      "source": [
        "#### $[x~for~x~in~S] \\equiv S$"
      ],
      "metadata": {
        "id": "UzNCf6fD1pgi"
      }
    },
    {
      "cell_type": "markdown",
      "source": [
        "## map takes a function and a collection and applies the function to all elements of the collection and returns the function values as a new collection"
      ],
      "metadata": {
        "id": "VQa8QD9e3V3K"
      }
    },
    {
      "cell_type": "markdown",
      "source": [
        "## filter takes a function and a collection and returns those elements of the collection that return True when the function is applied to them"
      ],
      "metadata": {
        "id": "2nxEqrFC7UC-"
      }
    },
    {
      "cell_type": "markdown",
      "source": [
        "## map(f, S) = [f(x) for x in S]\n",
        "\n",
        "## filter(g, S) = [x for x in S if g(x)]\n",
        "\n",
        "## lc = [f(x) for x in S if g(x)]"
      ],
      "metadata": {
        "id": "gaNVYDZw7vpz"
      }
    },
    {
      "cell_type": "code",
      "source": [
        "xs = [1, 2, 3]\n",
        "ys = [8, 9, 10]\n",
        "\n",
        "[x * y for x in xs for y in ys]"
      ],
      "metadata": {
        "id": "51_ngQUk9C-M"
      },
      "execution_count": null,
      "outputs": []
    },
    {
      "cell_type": "code",
      "source": [
        "list(filter(select, (range(1, 10))))"
      ],
      "metadata": {
        "id": "wx3NeiM6-XPg"
      },
      "execution_count": null,
      "outputs": []
    },
    {
      "cell_type": "code",
      "source": [
        "list(filter(lambda p: p % 3 == 0 or p % 5 == 0, range(1, 10)))"
      ],
      "metadata": {
        "id": "VyTkeL76-zF_"
      },
      "execution_count": null,
      "outputs": []
    },
    {
      "cell_type": "code",
      "source": [
        "list(filter(lambda p: not (select(p)), range(1, 10)))"
      ],
      "metadata": {
        "id": "Gq1cJYkv_GbO"
      },
      "execution_count": null,
      "outputs": []
    },
    {
      "cell_type": "code",
      "source": [
        "list(map(lambda k: k * k + 1, [1, 8, 9, -3]))"
      ],
      "metadata": {
        "id": "Z5qkYu29ADF1"
      },
      "execution_count": null,
      "outputs": []
    },
    {
      "cell_type": "code",
      "source": [
        "def euler10f(limit: int) -> int:\n",
        "    return sum(filter(is_prime, range(2, limit)))"
      ],
      "metadata": {
        "id": "PdU46E3RAaIk"
      },
      "execution_count": null,
      "outputs": []
    },
    {
      "cell_type": "code",
      "source": [
        "def euler10lc(limit: int) -> int:\n",
        "    return sum([x for x in range(2, limit) if is_prime(x)])"
      ],
      "metadata": {
        "id": "lKK6o41qB71l"
      },
      "execution_count": null,
      "outputs": []
    },
    {
      "cell_type": "code",
      "source": [
        "{f(x) for x in S if g(x)}"
      ],
      "metadata": {
        "id": "oudic8GRCEHy"
      },
      "execution_count": null,
      "outputs": []
    },
    {
      "cell_type": "code",
      "source": [
        "cities = [\"MAA\", \"BLR\", \"HYD\", \"KOL\"]\n",
        "states = [\"TN\", \"KA\", \"TG\", \"WB\"]\n",
        "capitals = {s:c for c, s in zip(cities, states)}"
      ],
      "metadata": {
        "id": "XGrouM3LExiv"
      },
      "execution_count": null,
      "outputs": []
    },
    {
      "cell_type": "code",
      "source": [
        "capitals"
      ],
      "metadata": {
        "id": "3acdw2pvFSkJ"
      },
      "execution_count": null,
      "outputs": []
    },
    {
      "cell_type": "code",
      "source": [
        "list(zip(cities, states))"
      ],
      "metadata": {
        "id": "k2kaPajFFTgv"
      },
      "execution_count": null,
      "outputs": []
    },
    {
      "cell_type": "code",
      "source": [
        "def alpha(old, process):\n",
        "    new = []\n",
        "    for item in old:\n",
        "        new_item = process(item)\n",
        "        new.append(new_item)\n",
        "    return new"
      ],
      "metadata": {
        "id": "Ae3nCm8wFfOi"
      },
      "execution_count": null,
      "outputs": []
    },
    {
      "cell_type": "code",
      "source": [
        "map(process, old)"
      ],
      "metadata": {
        "id": "8H0_8yZKGJ3Q"
      },
      "execution_count": null,
      "outputs": []
    },
    {
      "cell_type": "markdown",
      "source": [
        "## Euler 4\n",
        "A palindromic number reads the same both ways. The largest palindrome made from the product of two 2-digit numbers is 9009 = 91 × 99.\n",
        "\n",
        "Find the largest palindrome made from the product of two 3-digit numbers.\n",
        "\n"
      ],
      "metadata": {
        "id": "62Tg10fPGOXa"
      }
    },
    {
      "cell_type": "code",
      "source": [
        "def is_palindrome(n: int) -> bool:\n",
        "    s = str(n)\n",
        "    return s == s[::-1]\n",
        "\n",
        "def euler4(start: int, limit: int) -> int:\n",
        "    return max([(a * b, a, b) for a in range(start, limit)\\\n",
        "                for b in range(start, limit)\\\n",
        "                if is_palindrome(a*b)])"
      ],
      "metadata": {
        "id": "A8vC9HYrIElZ"
      },
      "execution_count": null,
      "outputs": []
    },
    {
      "cell_type": "code",
      "source": [
        "euler4(100, 1000)"
      ],
      "metadata": {
        "id": "AI1O2QXeIuEc"
      },
      "execution_count": null,
      "outputs": []
    },
    {
      "cell_type": "markdown",
      "source": [
        "### Euler 8"
      ],
      "metadata": {
        "id": "EsODKnBzMl0i"
      }
    },
    {
      "cell_type": "code",
      "source": [
        "def prod(s: str) -> int:\n",
        "    '''This function takes a string comprising digits\n",
        "    and returns the product of the digits'''\n",
        "    if '0' in s:\n",
        "        return 0\n",
        "    p = 1\n",
        "    for ch in s:\n",
        "        p *= int(ch)\n",
        "    return p"
      ],
      "metadata": {
        "id": "NfsnvOk1IwvP"
      },
      "execution_count": null,
      "outputs": []
    },
    {
      "cell_type": "code",
      "source": [
        "def make13s(s: str) -> [str]:\n",
        "    '''This function takes a long string and returns a list of 13-char\n",
        "    sliding window of the long string\n",
        "    '''\n",
        "    return [s[i:i+13] for i in range(len(s) - 12)]"
      ],
      "metadata": {
        "id": "D9k6HufsLnIT"
      },
      "execution_count": null,
      "outputs": []
    },
    {
      "cell_type": "code",
      "source": [
        "def euler8(s: str) -> int:\n",
        "    return max([prod(s13) for s13 in make13s(s)])"
      ],
      "metadata": {
        "id": "u0OtPcIWL6A4"
      },
      "execution_count": null,
      "outputs": []
    },
    {
      "cell_type": "code",
      "source": [
        "make13s(\"abcdefghijklmnopqrstuvw\")"
      ],
      "metadata": {
        "id": "HiXdFlqdOYGd"
      },
      "execution_count": null,
      "outputs": []
    },
    {
      "cell_type": "code",
      "source": [
        "from functools import reduce"
      ],
      "metadata": {
        "id": "t9YV4faRPTfA"
      },
      "execution_count": null,
      "outputs": []
    },
    {
      "cell_type": "markdown",
      "source": [
        "### reduce(f, S) -> v\n",
        "\n",
        "### reduce(f, S) = reduce(f, [**f(S[0], S[1])**, S[2] ...])"
      ],
      "metadata": {
        "id": "TycPJTB1P_Bw"
      }
    },
    {
      "cell_type": "code",
      "source": [
        "def prod(a, b):\n",
        "    return 10 * a + b\n",
        "\n",
        "def digits2num(ds: [int]) -> int:\n",
        "    #return reduce(lambda x, y: 10 * x + y, ds)\n",
        "    return reduce(prod, ds)"
      ],
      "metadata": {
        "id": "ufC5dIdgTGnp"
      },
      "execution_count": null,
      "outputs": []
    },
    {
      "cell_type": "code",
      "source": [
        "digits2num([1, 8, 2, 4, 9, 3, 4, 3, 6])"
      ],
      "metadata": {
        "id": "GPNpjgidThLh"
      },
      "execution_count": null,
      "outputs": []
    },
    {
      "cell_type": "markdown",
      "source": [
        "[1, 8, 2, 4, 9, 3, 4, 3, 6] =>\n",
        "\n",
        "[18, 2, 4, 9, 3, 4, 3, 6] =>\n",
        "\n",
        "[182, 4, 9, 3, 4, 3, 6]"
      ],
      "metadata": {
        "id": "6g_dvdNfTnFg"
      }
    },
    {
      "cell_type": "markdown",
      "source": [
        "# Recursion\n"
      ],
      "metadata": {
        "id": "d_P69XdcfdRS"
      }
    },
    {
      "cell_type": "code",
      "source": [
        "def potter(n):\n",
        "    r = 0\n",
        "    while r * r * r < n:\n",
        "        r += 1\n",
        "    return r * r * r == n"
      ],
      "metadata": {
        "id": "PLu2hsy6fhv5"
      },
      "execution_count": null,
      "outputs": []
    },
    {
      "cell_type": "code",
      "source": [
        "def is_perfect_cube(n: int) -> bool:\n",
        "    r = 0\n",
        "    while r * r * r < n:\n",
        "        r += 1\n",
        "    return r * r * r == n"
      ],
      "metadata": {
        "id": "QbveRa2wtjTQ"
      },
      "execution_count": null,
      "outputs": []
    },
    {
      "cell_type": "code",
      "source": [
        "def leia(n):\n",
        "    while n > 0:\n",
        "        if n % 2 == 1:\n",
        "            return False\n",
        "        n //= 10\n",
        "    return True"
      ],
      "metadata": {
        "id": "BZM1HFbiuLBv"
      },
      "execution_count": null,
      "outputs": []
    },
    {
      "cell_type": "code",
      "source": [
        "def all_even(n: int) -> bool:\n",
        "    while n > 0:\n",
        "        if n % 2 == 1:\n",
        "            return False\n",
        "        n //= 10\n",
        "    return True"
      ],
      "metadata": {
        "id": "nq2tPsaNuWVe"
      },
      "execution_count": null,
      "outputs": []
    },
    {
      "cell_type": "code",
      "source": [
        "#1\n",
        "def r2d2(n):\n",
        "    return n % 10\n",
        "\n",
        "def c3po(n):\n",
        "    if n < 10:\n",
        "        return True\n",
        "    if r2d2(n) <= r2d2(n // 10):\n",
        "        return False\n",
        "    return c3po(n // 10)"
      ],
      "metadata": {
        "id": "gVFD5AGVuo_R"
      },
      "execution_count": null,
      "outputs": []
    },
    {
      "cell_type": "code",
      "source": [
        "#1\n",
        "def last_digit(n: int) -> int:\n",
        "    return n % 10\n",
        "\n",
        "def is_ascending(n: int) -> bool:\n",
        "    if n < 10:\n",
        "        return True\n",
        "    if last_digit(n) <= last_digit(n // 10):\n",
        "        return False\n",
        "    return is_ascending(n // 10)"
      ],
      "metadata": {
        "id": "vOR5kYdtvBDN"
      },
      "execution_count": null,
      "outputs": []
    },
    {
      "cell_type": "code",
      "source": [
        "#2\n",
        "a = 07"
      ],
      "metadata": {
        "id": "JasrqpP6wQQ0"
      },
      "execution_count": null,
      "outputs": []
    },
    {
      "cell_type": "code",
      "source": [
        "#2\n",
        "def maudib(n):\n",
        "    if n < 10:\n",
        "        return 1\n",
        "    return 1 + maudib(n // 10)"
      ],
      "metadata": {
        "id": "GdLLNRG-xFZz"
      },
      "execution_count": null,
      "outputs": []
    },
    {
      "cell_type": "code",
      "source": [
        "def num_of_digits(n: int) -> int:\n",
        "    if n < 10:\n",
        "        return 1\n",
        "    return 1 + num_of_digits(n // 10)"
      ],
      "metadata": {
        "id": "ACpvjORHx5Q_"
      },
      "execution_count": null,
      "outputs": []
    },
    {
      "cell_type": "code",
      "source": [
        "#3\n",
        "def channi(n):\n",
        "    if not n:\n",
        "        return 0\n",
        "    return 1 + channi(n[1:])"
      ],
      "metadata": {
        "id": "dBqFvreNycgP"
      },
      "execution_count": null,
      "outputs": []
    },
    {
      "cell_type": "code",
      "source": [
        "channi(\"Hello\")"
      ],
      "metadata": {
        "id": "lM3Q9Qe9ypeQ"
      },
      "execution_count": null,
      "outputs": []
    },
    {
      "cell_type": "code",
      "source": [
        "channi([1, 3, 4, 6, 9, 2])"
      ],
      "metadata": {
        "id": "LH99wLrizdDb"
      },
      "execution_count": null,
      "outputs": []
    },
    {
      "cell_type": "code",
      "source": [
        "channi((True, False))"
      ],
      "metadata": {
        "id": "aES6ZIf_zpNx"
      },
      "execution_count": null,
      "outputs": []
    },
    {
      "cell_type": "code",
      "source": [
        "#2\n",
        "def my_len(n):\n",
        "    if not n:\n",
        "        return 0\n",
        "    return 1 + my_len(n[1:])"
      ],
      "metadata": {
        "id": "ADOKT9V_zscj"
      },
      "execution_count": null,
      "outputs": []
    },
    {
      "cell_type": "code",
      "source": [
        "\"\" == None"
      ],
      "metadata": {
        "id": "0iawEWFB0B2J"
      },
      "execution_count": null,
      "outputs": []
    },
    {
      "cell_type": "code",
      "source": [
        "[] == None"
      ],
      "metadata": {
        "id": "KGOKLUqX0wmJ"
      },
      "execution_count": null,
      "outputs": []
    },
    {
      "cell_type": "code",
      "source": [
        "def rlimit(n):\n",
        "    n += 1\n",
        "    if (n + 1) % 100 == 0:\n",
        "        print(n)\n",
        "    return rlimit(n + 1)"
      ],
      "metadata": {
        "id": "-2PQeW9A0zpl"
      },
      "execution_count": null,
      "outputs": []
    },
    {
      "cell_type": "code",
      "source": [
        "rlimit(1)"
      ],
      "metadata": {
        "id": "IWsozfmR09kg"
      },
      "execution_count": null,
      "outputs": []
    },
    {
      "cell_type": "markdown",
      "source": [
        "## Functions as arguments"
      ],
      "metadata": {
        "id": "HC-P_dH40-0L"
      }
    },
    {
      "cell_type": "code",
      "source": [
        "def is_perfect_cube(n: int) -> bool:\n",
        "    r = 0\n",
        "    while r * r * r < n:\n",
        "        r += 1\n",
        "    return r * r * r == n"
      ],
      "metadata": {
        "id": "rYxy3ZPR1xvs"
      },
      "execution_count": null,
      "outputs": []
    },
    {
      "cell_type": "code",
      "source": [
        "def is_perfect_square(n: int) -> bool:\n",
        "    r = 0\n",
        "    while r * r < n:\n",
        "        r += 1\n",
        "    return r * r == n"
      ],
      "metadata": {
        "id": "msCimKJ_129m"
      },
      "execution_count": null,
      "outputs": []
    },
    {
      "cell_type": "code",
      "source": [
        "def is_triangular(n: int) -> bool:\n",
        "    r = 0\n",
        "    while (r * (r + 1)) // 2 < n:\n",
        "        r += 1\n",
        "    return (r * (r + 1)) // 2 == n"
      ],
      "metadata": {
        "id": "sZRnhTpp166i"
      },
      "execution_count": null,
      "outputs": []
    },
    {
      "cell_type": "code",
      "source": [
        "is_triangular(10)"
      ],
      "metadata": {
        "id": "zg07_a-a2IIy"
      },
      "execution_count": null,
      "outputs": []
    },
    {
      "cell_type": "code",
      "source": [
        "is_triangular(11)"
      ],
      "metadata": {
        "id": "mFD_Hn9t2L9Z"
      },
      "execution_count": null,
      "outputs": []
    },
    {
      "cell_type": "code",
      "source": [
        "def is_power_of3(n: int) -> bool:\n",
        "    r = 0\n",
        "    while 3 ** r < n:\n",
        "        r += 1\n",
        "    return 3 ** r == n"
      ],
      "metadata": {
        "id": "eGVVbeAh2OuW"
      },
      "execution_count": null,
      "outputs": []
    },
    {
      "cell_type": "code",
      "source": [
        "def is_f(asokan, n: int) -> bool:\n",
        "    r = 0\n",
        "    while asokan(r) < n:\n",
        "        r += 1\n",
        "    return asokan(r) == n"
      ],
      "metadata": {
        "id": "EeMRQREM2X3n"
      },
      "execution_count": null,
      "outputs": []
    },
    {
      "cell_type": "code",
      "source": [
        "def square(n):\n",
        "    return n * n"
      ],
      "metadata": {
        "id": "eMC14abY3Mb0"
      },
      "execution_count": null,
      "outputs": []
    },
    {
      "cell_type": "code",
      "source": [
        "is_f(square, 16)"
      ],
      "metadata": {
        "id": "ZuPiXXLy3PpY"
      },
      "execution_count": null,
      "outputs": []
    },
    {
      "cell_type": "code",
      "source": [
        "is_f(lambda k: (k * (k + 1)//2), 10)"
      ],
      "metadata": {
        "id": "_06MJ3hg3SR0"
      },
      "execution_count": null,
      "outputs": []
    },
    {
      "cell_type": "code",
      "source": [
        "def is_vowel(ch: str) -> bool:\n",
        "    return ch in \"aeiouAEIOU\"\n",
        "\n",
        "def vowel_count(s: str) -> int:\n",
        "    return len([ch for ch in s if is_vowel(ch)])"
      ],
      "metadata": {
        "id": "kyPXznIn3fpC"
      },
      "execution_count": null,
      "outputs": []
    },
    {
      "cell_type": "code",
      "source": [
        "vowel_count(\"Old brother fox jumps over the lazydog\")"
      ],
      "metadata": {
        "id": "rVUIvSOe8f0I"
      },
      "execution_count": null,
      "outputs": []
    },
    {
      "cell_type": "markdown",
      "source": [
        "1. Arabic to Roman\n",
        "\n",
        "2. Roman to Arabic\n",
        "\n",
        "3. Figures to words\n",
        "   \n",
        "   3.1 Indian\n",
        "   \n",
        "   3.2 Western\n",
        "\n",
        "\n",
        "1675 -> \n",
        "\n",
        "    \"One thousand Six hundred and seventy five\"\n",
        "\n",
        "786456 -> \n",
        "\n",
        "    \"Seven lakhs eighty six thousand four hundred and fifty six\"\n",
        "\n",
        "    \"Seven hundred and eighty six thousand four hundred and fifty six\"\n",
        "\n",
        "Assume < 100 crore for Indian and < 1 Trillion for Western  \n",
        "\n",
        " 4. Odometer\n",
        "\n",
        "    1. Reading cannot have 0 as a digit\n",
        "    2. readings should have digits in strictly ascending order only\n",
        "\n",
        "for 3-digit odometer, smallest reading is 123, 789 is the largest\n",
        "  167 -> 168 -> 169 -> 178 -> 179 -> 189 -> 234\n",
        "\n",
        "  2467 -> 2468 -> 2469 -> 2478 -> 2479 -> 2489 -> 2567\n",
        "\n",
        "  **Minimum** functionality\n",
        "\n",
        "  1. next reading\n",
        "\n",
        "  2. previous reading\n",
        "\n",
        "  3. next nth reading\n",
        "\n",
        "  4. previous nth reading\n",
        "\n",
        "  5. distance between two readings\n"
      ],
      "metadata": {
        "id": "w-6c-M2q8k2p"
      }
    },
    {
      "cell_type": "code",
      "source": [
        ""
      ],
      "metadata": {
        "id": "Xhs4Ntkx9OxQ"
      },
      "execution_count": null,
      "outputs": []
    }
  ]
}