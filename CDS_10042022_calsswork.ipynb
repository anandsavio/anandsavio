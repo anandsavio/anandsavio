{
  "nbformat": 4,
  "nbformat_minor": 0,
  "metadata": {
    "colab": {
      "name": "CDS_10042022_calsswork.ipynb",
      "provenance": [],
      "collapsed_sections": [],
      "authorship_tag": "ABX9TyOUbl+Xo/FdJM8KLi29waNF",
      "include_colab_link": true
    },
    "kernelspec": {
      "name": "python3",
      "display_name": "Python 3"
    },
    "language_info": {
      "name": "python"
    }
  },
  "cells": [
    {
      "cell_type": "markdown",
      "metadata": {
        "id": "view-in-github",
        "colab_type": "text"
      },
      "source": [
        "<a href=\"https://colab.research.google.com/github/anandsavio/anandsavio/blob/main/CDS_10042022_calsswork.ipynb\" target=\"_parent\"><img src=\"https://colab.research.google.com/assets/colab-badge.svg\" alt=\"Open In Colab\"/></a>"
      ]
    },
    {
      "cell_type": "markdown",
      "source": [
        "# Functional programming\n",
        "\n",
        "## a) Map"
      ],
      "metadata": {
        "id": "wM65yTQEslJP"
      }
    },
    {
      "cell_type": "code",
      "source": [
        "def square(n:int):\n",
        "    return (n*n)\n",
        "    "
      ],
      "metadata": {
        "id": "T6A4eb-9pp4P"
      },
      "execution_count": null,
      "outputs": []
    },
    {
      "cell_type": "code",
      "execution_count": null,
      "metadata": {
        "colab": {
          "base_uri": "https://localhost:8080/"
        },
        "id": "l91om0iqjAyp",
        "outputId": "a4028f60-fb24-4477-dbff-2a318a47782e"
      },
      "outputs": [
        {
          "output_type": "execute_result",
          "data": {
            "text/plain": [
              "[1, 4, 9, 16, 25]"
            ]
          },
          "metadata": {},
          "execution_count": 5
        }
      ],
      "source": [
        "list(map(square,[1,2,3,4,5]))"
      ]
    },
    {
      "cell_type": "code",
      "source": [
        "def numtodigits(n):\n",
        "    print(list(map(int,str(n))))"
      ],
      "metadata": {
        "id": "jbmDELu0pWBu"
      },
      "execution_count": null,
      "outputs": []
    },
    {
      "cell_type": "code",
      "source": [
        "numtodigits(2345)"
      ],
      "metadata": {
        "colab": {
          "base_uri": "https://localhost:8080/"
        },
        "id": "2JerBB1rqWRd",
        "outputId": "ba593723-d378-4a1e-a818-3557951d8e75"
      },
      "execution_count": null,
      "outputs": [
        {
          "output_type": "stream",
          "name": "stdout",
          "text": [
            "[2, 3, 4, 5]\n"
          ]
        }
      ]
    },
    {
      "cell_type": "markdown",
      "source": [
        "# b) Filter"
      ],
      "metadata": {
        "id": "v8U1ZkfMsrUk"
      }
    },
    {
      "cell_type": "code",
      "source": [
        "def select(n):\n",
        "    return n % 3 == 0 or n % 5 == 0"
      ],
      "metadata": {
        "id": "LlqQ2y2rqZiX"
      },
      "execution_count": null,
      "outputs": []
    },
    {
      "cell_type": "code",
      "source": [
        "sum(list(filter(select, range(1,100)))) #Euler problem 1 in a single line"
      ],
      "metadata": {
        "colab": {
          "base_uri": "https://localhost:8080/"
        },
        "id": "gMiGuSqts5FB",
        "outputId": "0270fe74-64f0-4125-9195-d9a6c42c38a8"
      },
      "execution_count": null,
      "outputs": [
        {
          "output_type": "execute_result",
          "data": {
            "text/plain": [
              "2318"
            ]
          },
          "metadata": {},
          "execution_count": 15
        }
      ]
    },
    {
      "cell_type": "markdown",
      "source": [
        "# c) List comprehension##\n",
        "\n",
        "$S' = {\\phi(x)~where~xϵS~and~π(x)~is~True}$"
      ],
      "metadata": {
        "id": "NKq9mh0FwBR_"
      }
    },
    {
      "cell_type": "code",
      "source": [
        "def lcdigits(n):\n",
        "    return [int(ch) for ch in str(n)]"
      ],
      "metadata": {
        "id": "kYtxRq9fthZA"
      },
      "execution_count": null,
      "outputs": []
    },
    {
      "cell_type": "code",
      "source": [
        "lcdigits(1234)"
      ],
      "metadata": {
        "colab": {
          "base_uri": "https://localhost:8080/"
        },
        "id": "ZxOFyHlvxM4p",
        "outputId": "69209a29-2c63-4b2b-84ef-afcf17f5a585"
      },
      "execution_count": null,
      "outputs": [
        {
          "output_type": "execute_result",
          "data": {
            "text/plain": [
              "[1, 2, 3, 4]"
            ]
          },
          "metadata": {},
          "execution_count": 17
        }
      ]
    },
    {
      "cell_type": "code",
      "source": [
        "def even(n:int) ->bool:\n",
        "    return n % 2 ==0"
      ],
      "metadata": {
        "id": "RaD9NdQkxPkW"
      },
      "execution_count": null,
      "outputs": []
    },
    {
      "cell_type": "code",
      "source": [
        "def evendigits(num:int) ->[int]:\n",
        "    return [d for d in lcdigits(num) if even(d)]"
      ],
      "metadata": {
        "id": "jlcBaGjhyI5P"
      },
      "execution_count": null,
      "outputs": []
    },
    {
      "cell_type": "code",
      "source": [
        "evendigits(123456789)"
      ],
      "metadata": {
        "colab": {
          "base_uri": "https://localhost:8080/"
        },
        "id": "VRt0Rxjtyc89",
        "outputId": "f8603753-a9fb-446a-d857-51e0a06a8895"
      },
      "execution_count": null,
      "outputs": [
        {
          "output_type": "execute_result",
          "data": {
            "text/plain": [
              "[2, 4, 6, 8]"
            ]
          },
          "metadata": {},
          "execution_count": 20
        }
      ]
    },
    {
      "cell_type": "code",
      "source": [
        "def euler1_002(g:int) ->int:\n",
        "    return sum([d for d in range(1,g) if select(d)]) #Euler 1 using list comprehension"
      ],
      "metadata": {
        "id": "lPf5gs8-yff3"
      },
      "execution_count": null,
      "outputs": []
    },
    {
      "cell_type": "code",
      "source": [
        "euler1_002(100)"
      ],
      "metadata": {
        "colab": {
          "base_uri": "https://localhost:8080/"
        },
        "id": "Fjpqbo3fzQPw",
        "outputId": "6c832949-35eb-4145-def1-2782a1afabd8"
      },
      "execution_count": null,
      "outputs": [
        {
          "output_type": "execute_result",
          "data": {
            "text/plain": [
              "2318"
            ]
          },
          "metadata": {},
          "execution_count": 26
        }
      ]
    },
    {
      "cell_type": "code",
      "source": [
        "# Fizz Buzz\n",
        "def fb_1(n:int) ->[str]:\n",
        "    if n % 15 == 0:\n",
        "        return (\"FizzBuzz\")\n",
        "    if n % 5 == 0:\n",
        "        return (\"Buzz\")\n",
        "    if n % 3 == 0:\n",
        "        return (\"Fizz\")\n",
        "    else:\n",
        "        return (str(n))"
      ],
      "metadata": {
        "id": "PHlus15GzSI2"
      },
      "execution_count": null,
      "outputs": []
    },
    {
      "cell_type": "code",
      "source": [
        "def fizbuz_01(n:int) -> [str]:\n",
        "    return ([fb_1(x) for x in range(1,n+1)])"
      ],
      "metadata": {
        "id": "_0gNCPNW0XX7"
      },
      "execution_count": null,
      "outputs": []
    },
    {
      "cell_type": "code",
      "source": [
        "fizbuz_01(45)"
      ],
      "metadata": {
        "id": "epN4qOzO1Agu"
      },
      "execution_count": null,
      "outputs": []
    },
    {
      "cell_type": "markdown",
      "source": [
        "Lambda functions"
      ],
      "metadata": {
        "id": "3iBcziQx_fke"
      }
    },
    {
      "cell_type": "code",
      "source": [
        "list(filter(lambda n: n % 3 == 0 or n % 5 == 0, range(1,11)))"
      ],
      "metadata": {
        "colab": {
          "base_uri": "https://localhost:8080/"
        },
        "id": "n-aTWytd9x26",
        "outputId": "c94b5a64-62c9-4404-f529-8279a577a715"
      },
      "execution_count": null,
      "outputs": [
        {
          "output_type": "execute_result",
          "data": {
            "text/plain": [
              "[3, 5, 6, 9, 10]"
            ]
          },
          "metadata": {},
          "execution_count": 33
        }
      ]
    },
    {
      "cell_type": "markdown",
      "source": [
        "Euler problem 2"
      ],
      "metadata": {
        "id": "mD5yY5KnBM_G"
      }
    },
    {
      "cell_type": "code",
      "source": [
        "def fibonacci(n:int) ->[int]:\n",
        "    fibs =[1,2]\n",
        "    i = 1\n",
        "    while i < n:\n",
        "        i = sum(fibs[len(fibs)-2:])\n",
        "        if i < n:\n",
        "            fibs.append(i)\n",
        "    return fibs"
      ],
      "metadata": {
        "id": "jqr7zD4N_725"
      },
      "execution_count": null,
      "outputs": []
    },
    {
      "cell_type": "code",
      "source": [
        "fibonacci(10)"
      ],
      "metadata": {
        "colab": {
          "base_uri": "https://localhost:8080/"
        },
        "id": "R0LMaPmxB2ej",
        "outputId": "11aa54f5-5055-4094-f80d-f1773e99985e"
      },
      "execution_count": null,
      "outputs": [
        {
          "output_type": "execute_result",
          "data": {
            "text/plain": [
              "[1, 2, 3, 5, 8]"
            ]
          },
          "metadata": {},
          "execution_count": 62
        }
      ]
    },
    {
      "cell_type": "code",
      "source": [
        "def euler2_lc(n:int) ->int:\n",
        "    return (sum([d for d in fibonacci(n) if even(d)]))"
      ],
      "metadata": {
        "id": "Ig3LwwV6B5A3"
      },
      "execution_count": null,
      "outputs": []
    },
    {
      "cell_type": "code",
      "source": [
        "euler2_lc(4*10**6)"
      ],
      "metadata": {
        "colab": {
          "base_uri": "https://localhost:8080/"
        },
        "id": "487AH87KEqZ3",
        "outputId": "ff8a4a87-1f7f-4b03-db38-86b4da2b1e03"
      },
      "execution_count": null,
      "outputs": [
        {
          "output_type": "execute_result",
          "data": {
            "text/plain": [
              "4613732"
            ]
          },
          "metadata": {},
          "execution_count": 82
        }
      ]
    },
    {
      "cell_type": "markdown",
      "source": [
        "# Euler Problem 4\n",
        "\n",
        "A palindromic number reads the same both ways. The largest palindrome made\n",
        "from the product of two 2-digit numbers is 9009 = 91 * 99.\n",
        "Find the largest palindrome made from the product of two 3-digit numbers."
      ],
      "metadata": {
        "id": "r0NiTqwhIESm"
      }
    },
    {
      "cell_type": "code",
      "source": [
        "def palindrome(n:int) ->bool:\n",
        "    s = str(n)\n",
        "    return s == s[::-1]"
      ],
      "metadata": {
        "id": "5Yq-HeMcG0sj"
      },
      "execution_count": null,
      "outputs": []
    },
    {
      "cell_type": "code",
      "source": [
        "palindrome(123)"
      ],
      "metadata": {
        "colab": {
          "base_uri": "https://localhost:8080/"
        },
        "id": "higOgMmxJAze",
        "outputId": "dc504fd4-e1bc-4597-9738-d4de94177132"
      },
      "execution_count": null,
      "outputs": [
        {
          "output_type": "execute_result",
          "data": {
            "text/plain": [
              "False"
            ]
          },
          "metadata": {},
          "execution_count": 108
        }
      ]
    },
    {
      "cell_type": "code",
      "source": [
        "palindrome(9009)"
      ],
      "metadata": {
        "colab": {
          "base_uri": "https://localhost:8080/"
        },
        "id": "v7V_N5-jJl4e",
        "outputId": "c64fc746-e197-49d5-a445-d698d6351e67"
      },
      "execution_count": null,
      "outputs": [
        {
          "output_type": "execute_result",
          "data": {
            "text/plain": [
              "True"
            ]
          },
          "metadata": {},
          "execution_count": 110
        }
      ]
    },
    {
      "cell_type": "code",
      "source": [
        "def euler4(n1,n2) ->int:\n",
        "    return max([(a*b,a,b) for a in range(n1,n2) for b in range(n1,n2) if palindrome(a*b)])"
      ],
      "metadata": {
        "id": "j0HaJZjnJtjd"
      },
      "execution_count": null,
      "outputs": []
    },
    {
      "cell_type": "code",
      "source": [
        "euler4(100,1000)"
      ],
      "metadata": {
        "colab": {
          "base_uri": "https://localhost:8080/"
        },
        "id": "pALveNuXKmfN",
        "outputId": "7abe71d9-a5b5-4b97-d401-0cae9332105e"
      },
      "execution_count": null,
      "outputs": [
        {
          "output_type": "execute_result",
          "data": {
            "text/plain": [
              "(906609, 993, 913)"
            ]
          },
          "metadata": {},
          "execution_count": 112
        }
      ]
    },
    {
      "cell_type": "markdown",
      "source": [
        "Euler Problem 8\n",
        "\n",
        "The four adjacent digits in the 1000-digit number that have the greatest product\n",
        "are 9 * 9 * 8 * 9 = 5832.\n",
        "\n",
        "73167176531330624919225119674426574742355349194934\n",
        "96983520312774506326239578318016984801869478851843\n",
        "85861560789112949495459501737958331952853208805511\n",
        "12540698747158523863050715693290963295227443043557\n",
        "66896648950445244523161731856403098711121722383113\n",
        "62229893423380308135336276614282806444486645238749\n",
        "30358907296290491560440772390713810515859307960866\n",
        "70172427121883998797908792274921901699720888093776\n",
        "65727333001053367881220235421809751254540594752243\n",
        "52584907711670556013604839586446706324415722155397\n",
        "53697817977846174064955149290862569321978468622482\n",
        "83972241375657056057490261407972968652414535100474\n",
        "82166370484403199890008895243450658541227588666881\n",
        "16427171479924442928230863465674813919123162824586\n",
        "17866458359124566529476545682848912883142607690042\n",
        "24219022671055626321111109370544217506941658960408\n",
        "07198403850962455444362981230987879927244284909188\n",
        "84580156166097919133875499200524063689912560717606\n",
        "05886116467109405077541002256983155200055935729725\n",
        "71636269561882670428252483600823257530420752963450\n",
        "\n",
        "Find the thirteen adjacent digits in the 1000-digit number that have the\n",
        "greatest product. What is the value of this product?"
      ],
      "metadata": {
        "id": "cy3LSX7oNfU0"
      }
    },
    {
      "cell_type": "code",
      "source": [
        "def str_prod(s:str) -> int:\n",
        "    p=1\n",
        "    for ch in str(s):\n",
        "        p *= int(ch)\n",
        "    return(p)"
      ],
      "metadata": {
        "id": "l0tbSi8XLlY9"
      },
      "execution_count": null,
      "outputs": []
    },
    {
      "cell_type": "code",
      "source": [
        "str_prod(123)"
      ],
      "metadata": {
        "colab": {
          "base_uri": "https://localhost:8080/"
        },
        "id": "I7kULCllOIKT",
        "outputId": "3adf1941-ddc9-41a6-a801-9e7d25aff61b"
      },
      "execution_count": null,
      "outputs": [
        {
          "output_type": "execute_result",
          "data": {
            "text/plain": [
              "6"
            ]
          },
          "metadata": {},
          "execution_count": 118
        }
      ]
    },
    {
      "cell_type": "code",
      "source": [
        "def make13s(s:str) ->[str]:\n",
        "    s = s.replace(\"\\n\",\"\").replace(\" \",\"\")\n",
        "    return [s[i:i+13] for i in range(0,len(s)-13)]"
      ],
      "metadata": {
        "id": "UeC30vW4OLOS"
      },
      "execution_count": null,
      "outputs": []
    },
    {
      "cell_type": "code",
      "source": [
        "make13s('7316717653133062491922511967442657474235534919493496983520312774506326239578318016984801869478851843 85861560789112949495459501737958331952853208805511 12540698747158523863050715693290963295227443043557 66896648950445244523161731856403098711121722383113 62229893423380308135336276614282806444486645238749 30358907296290491560440772390713810515859307960866 70172427121883998797908792274921901699720888093776 65727333001053367881220235421809751254540594752243 52584907711670556013604839586446706324415722155397 53697817977846174064955149290862569321978468622482 83972241375657056057490261407972968652414535100474 82166370484403199890008895243450658541227588666881 16427171479924442928230863465674813919123162824586 17866458359124566529476545682848912883142607690042 24219022671055626321111109370544217506941658960408 07198403850962455444362981230987879927244284909188 84580156166097919133875499200524063689912560717606 05886116467109405077541002256983155200055935729725 71636269561882670428252483600823257530420752963450')"
      ],
      "metadata": {
        "id": "4KHEM3BwO6ks"
      },
      "execution_count": null,
      "outputs": []
    },
    {
      "cell_type": "code",
      "source": [
        "def euler8(s:str) ->str:\n",
        "    return max([(str_prod(a),a) for a in make13s(s)])"
      ],
      "metadata": {
        "id": "fL5GrrjyPYQc"
      },
      "execution_count": null,
      "outputs": []
    },
    {
      "cell_type": "code",
      "source": [
        "euler8('73167176531330624919225119674426574742355349194934 96983520312774506326239578318016984801869478851843 85861560789112949495459501737958331952853208805511 12540698747158523863050715693290963295227443043557 66896648950445244523161731856403098711121722383113 62229893423380308135336276614282806444486645238749 30358907296290491560440772390713810515859307960866 70172427121883998797908792274921901699720888093776 65727333001053367881220235421809751254540594752243 52584907711670556013604839586446706324415722155397 53697817977846174064955149290862569321978468622482 83972241375657056057490261407972968652414535100474 82166370484403199890008895243450658541227588666881 16427171479924442928230863465674813919123162824586 17866458359124566529476545682848912883142607690042 24219022671055626321111109370544217506941658960408 07198403850962455444362981230987879927244284909188 84580156166097919133875499200524063689912560717606 05886116467109405077541002256983155200055935729725 71636269561882670428252483600823257530420752963450')"
      ],
      "metadata": {
        "colab": {
          "base_uri": "https://localhost:8080/"
        },
        "id": "H8xMzEbhRz5O",
        "outputId": "769e5430-0445-4975-df56-8c920fa78ab9"
      },
      "execution_count": null,
      "outputs": [
        {
          "output_type": "execute_result",
          "data": {
            "text/plain": [
              "(23514624000, '5576689664895')"
            ]
          },
          "metadata": {},
          "execution_count": 129
        }
      ]
    },
    {
      "cell_type": "markdown",
      "source": [
        "# Reduce"
      ],
      "metadata": {
        "id": "dWGdDINdSg0v"
      }
    },
    {
      "cell_type": "code",
      "source": [
        "from functools import reduce\n",
        "\n",
        "list1 = [1,4,7,3,10,76,14,17]\n",
        "\n",
        "def add(num1,num2) :\n",
        "    return num1 + num2\n",
        "\n",
        "reduce(add, list1)"
      ],
      "metadata": {
        "colab": {
          "base_uri": "https://localhost:8080/"
        },
        "id": "jHf4A92LSl9Z",
        "outputId": "779bef14-5d8b-4db7-a965-5a6264f6f58d"
      },
      "execution_count": null,
      "outputs": [
        {
          "output_type": "execute_result",
          "data": {
            "text/plain": [
              "132"
            ]
          },
          "metadata": {},
          "execution_count": 130
        }
      ]
    },
    {
      "cell_type": "code",
      "source": [
        "from functools import reduce"
      ],
      "metadata": {
        "id": "wxY6-nP-Sm0f"
      },
      "execution_count": null,
      "outputs": []
    },
    {
      "cell_type": "code",
      "source": [
        "def digits2num(ds:[int]) ->int:\n",
        "    return reduce(lambda x,y: x*10+y,ds)"
      ],
      "metadata": {
        "id": "5wJb5msrTwgK"
      },
      "execution_count": null,
      "outputs": []
    },
    {
      "cell_type": "code",
      "source": [
        "digits2num([1,2,3,4,5,6])"
      ],
      "metadata": {
        "colab": {
          "base_uri": "https://localhost:8080/"
        },
        "id": "W7YSq-IfUGki",
        "outputId": "54a64c72-4109-4cb7-9269-1b12c17741bc"
      },
      "execution_count": null,
      "outputs": [
        {
          "output_type": "execute_result",
          "data": {
            "text/plain": [
              "123456"
            ]
          },
          "metadata": {},
          "execution_count": 43
        }
      ]
    },
    {
      "cell_type": "code",
      "source": [
        "def str_prod2(s:str) ->int:\n",
        "    return reduce(lambda x,y:int(x)*int(y),s)"
      ],
      "metadata": {
        "id": "zDPbuNX3UKku"
      },
      "execution_count": null,
      "outputs": []
    },
    {
      "cell_type": "code",
      "source": [
        "str_prod2(\"12345\")"
      ],
      "metadata": {
        "colab": {
          "base_uri": "https://localhost:8080/"
        },
        "id": "WDx4nGpTUtNm",
        "outputId": "1451943b-5973-4cd6-cf78-86f19594431c"
      },
      "execution_count": null,
      "outputs": [
        {
          "output_type": "execute_result",
          "data": {
            "text/plain": [
              "120"
            ]
          },
          "metadata": {},
          "execution_count": 137
        }
      ]
    },
    {
      "cell_type": "code",
      "source": [
        "def euler8_01(s:str) ->str:\n",
        "    return max([(str_prod2(x),x) for x in make13s(s)])"
      ],
      "metadata": {
        "id": "LV_LMPrWUxDU"
      },
      "execution_count": null,
      "outputs": []
    },
    {
      "cell_type": "code",
      "source": [
        "euler8_01(\"73167176531330624919225119674426574742355349194934 96983520312774506326239578318016984801869478851843 85861560789112949495459501737958331952853208805511 12540698747158523863050715693290963295227443043557 66896648950445244523161731856403098711121722383113 62229893423380308135336276614282806444486645238749 30358907296290491560440772390713810515859307960866 70172427121883998797908792274921901699720888093776 65727333001053367881220235421809751254540594752243 52584907711670556013604839586446706324415722155397 53697817977846174064955149290862569321978468622482 83972241375657056057490261407972968652414535100474 82166370484403199890008895243450658541227588666881 16427171479924442928230863465674813919123162824586 17866458359124566529476545682848912883142607690042 24219022671055626321111109370544217506941658960408 07198403850962455444362981230987879927244284909188 84580156166097919133875499200524063689912560717606 05886116467109405077541002256983155200055935729725 71636269561882670428252483600823257530420752963450\")"
      ],
      "metadata": {
        "colab": {
          "base_uri": "https://localhost:8080/"
        },
        "id": "BY-18zQ8V6kK",
        "outputId": "b451debd-dc30-488a-d5e8-50f92aecfffd"
      },
      "execution_count": null,
      "outputs": [
        {
          "output_type": "execute_result",
          "data": {
            "text/plain": [
              "(23514624000, '5576689664895')"
            ]
          },
          "metadata": {},
          "execution_count": 140
        }
      ]
    },
    {
      "cell_type": "code",
      "source": [
        "s = [2,3,4,5]\n",
        "t = ['a','b','c','f']\n",
        "f = ['oo','ff']\n",
        "\n",
        "list(zip(s,t,f))"
      ],
      "metadata": {
        "colab": {
          "base_uri": "https://localhost:8080/"
        },
        "id": "q_zNLhZoqc9v",
        "outputId": "3838d756-ce4a-40f2-e480-eec9440977c4"
      },
      "execution_count": null,
      "outputs": [
        {
          "output_type": "execute_result",
          "data": {
            "text/plain": [
              "[(2, 'a', 'oo'), (3, 'b', 'ff')]"
            ]
          },
          "metadata": {},
          "execution_count": 144
        }
      ]
    },
    {
      "cell_type": "markdown",
      "source": [
        "# Recursion"
      ],
      "metadata": {
        "id": "gOkmz-k_wnGc"
      }
    },
    {
      "cell_type": "code",
      "source": [
        "#1 \n",
        "def last_digit(n:int) ->int:\n",
        "    return n % 10\n",
        "\n",
        "def is_ascending(n:int) ->int:\n",
        "    if n<10:\n",
        "        return True\n",
        "    if last_digit(n) <= last_digit(n//10):\n",
        "        return False\n",
        "    return (is_ascending(n//10))"
      ],
      "metadata": {
        "id": "HSvbgRtHqmVq"
      },
      "execution_count": null,
      "outputs": []
    },
    {
      "cell_type": "code",
      "source": [
        "print(is_ascending(123))"
      ],
      "metadata": {
        "colab": {
          "base_uri": "https://localhost:8080/"
        },
        "id": "lkLVbYRIxbjl",
        "outputId": "13a0f269-1298-4d44-cc8a-f354910c4471"
      },
      "execution_count": null,
      "outputs": [
        {
          "output_type": "stream",
          "name": "stdout",
          "text": [
            "True\n"
          ]
        }
      ]
    },
    {
      "cell_type": "code",
      "source": [
        "def num_o_digits(n:int) ->int:\n",
        "    if n < 10:\n",
        "        return 1\n",
        "    return 1+num_o_digits(n//10)"
      ],
      "metadata": {
        "id": "HuoC-5OcyRb7"
      },
      "execution_count": null,
      "outputs": []
    },
    {
      "cell_type": "code",
      "source": [
        "num_o_digits(2345)"
      ],
      "metadata": {
        "colab": {
          "base_uri": "https://localhost:8080/"
        },
        "id": "XtyVZ8_AynTZ",
        "outputId": "4bfbccdd-95c1-4acf-9d2a-4d4ec75798c7"
      },
      "execution_count": null,
      "outputs": [
        {
          "output_type": "execute_result",
          "data": {
            "text/plain": [
              "4"
            ]
          },
          "metadata": {},
          "execution_count": 152
        }
      ]
    },
    {
      "cell_type": "code",
      "source": [
        "# see if you are able to understand the recursion done at the last line.\n",
        "def my_len(n):\n",
        "    if not n:\n",
        "        return 0\n",
        "    return 1 + my_len(n[1:])"
      ],
      "metadata": {
        "id": "h8wx4Dml0ykg"
      },
      "execution_count": null,
      "outputs": []
    },
    {
      "cell_type": "code",
      "source": [
        "my_len(\"cole slaw\")"
      ],
      "metadata": {
        "colab": {
          "base_uri": "https://localhost:8080/"
        },
        "id": "QKssP_Gw00ct",
        "outputId": "fbdacdcc-d1e8-4e29-8824-7c0555e8a06d"
      },
      "execution_count": null,
      "outputs": [
        {
          "output_type": "execute_result",
          "data": {
            "text/plain": [
              "9"
            ]
          },
          "metadata": {},
          "execution_count": 154
        }
      ]
    },
    {
      "cell_type": "markdown",
      "source": [
        "Vowel count problem\n",
        "\n"
      ],
      "metadata": {
        "id": "ua2eHZd38JyZ"
      }
    },
    {
      "cell_type": "code",
      "source": [
        "def is_vowel(l:str)->bool:\n",
        "    return l in \"aeiouAEIOU\"\n"
      ],
      "metadata": {
        "id": "IP_QYj1X8O7T"
      },
      "execution_count": null,
      "outputs": []
    },
    {
      "cell_type": "code",
      "source": [
        "def vowel_counter(line:str)->int:\n",
        "    cnt = 0\n",
        "    return len([ch for ch in line if is_vowel(ch)])"
      ],
      "metadata": {
        "id": "AnDV3w4x-A5R"
      },
      "execution_count": null,
      "outputs": []
    },
    {
      "cell_type": "code",
      "source": [
        "vowel_counter(\"You will never walk alone\")"
      ],
      "metadata": {
        "colab": {
          "base_uri": "https://localhost:8080/"
        },
        "id": "t_rOSP_6-DVc",
        "outputId": "918ca20f-4b69-4dac-df4b-9b6abfca23d2"
      },
      "execution_count": null,
      "outputs": [
        {
          "output_type": "execute_result",
          "data": {
            "text/plain": [
              "9"
            ]
          },
          "metadata": {},
          "execution_count": 163
        }
      ]
    },
    {
      "cell_type": "markdown",
      "source": [
        "Arabic to Roman\n",
        "\n",
        "Roman to Arabic\n",
        "\n",
        "Figures to words\n",
        "\n",
        "3.1 Indian\n",
        "\n",
        "3.2 Western\n",
        "\n",
        "1675 ->\n",
        "\n",
        "\"One thousand Six hundred and seventy five\"\n",
        "786456 ->\n",
        "\n",
        "\"Seven lakhs eighty six thousand four hundred and fifty six\"\n",
        "\n",
        "\"Seven hundred and eighty six thousand four hundred and fifty six\"\n",
        "Assume < 100 crore for Indian and < 1 Trillion for Western\n",
        "\n",
        "Odometer\n",
        "\n",
        "Reading cannot have 0 as a digit\n",
        "readings should have digits in strictly ascending order only\n",
        "for 3-digit odometer, smallest reading is 123, 789 is the largest 167 -> 168 -> 169 -> 178 -> 179 -> 189 -> 234\n",
        "\n",
        "2467 -> 2468 -> 2469 -> 2478 -> 2479 -> 2489 -> 2567\n",
        "\n",
        "Minimum functionality\n",
        "\n",
        "next reading\n",
        "\n",
        "previous reading\n",
        "\n",
        "next nth reading\n",
        "\n",
        "previous nth reading\n",
        "\n",
        "distance between two readings"
      ],
      "metadata": {
        "id": "ScxfaLMSGm_H"
      }
    },
    {
      "cell_type": "markdown",
      "source": [
        "Euler Problem 21\n",
        "\n",
        "Let d(n) be defined as the sum of proper divisors of n (numbers less than n\n",
        "which divide evenly into n). If d(a) = b and d(b) = a, where a 6= b, then a and\n",
        "b are an amicable pair and each of a and b are called amicable numbers.\n",
        "\n",
        "For example, the proper divisors of 220 are 1, 2, 4, 5, 10, 11, 20, 22, 44, 55\n",
        "and 110; therefore d(220) = 284. The proper divisors of 284 are 1, 2, 4, 71 and\n",
        "142; so d(284) = 220.\n",
        "\n",
        "Evaluate the sum of all the amicable numbers under 10000."
      ],
      "metadata": {
        "id": "BXoLSAiqGqcy"
      }
    },
    {
      "cell_type": "markdown",
      "source": [
        "# Odometer\n",
        "\n",
        "collection of n numbers from set N such that n1 less than n2 less than n3\n",
        "\n",
        "Find: \n",
        "\n",
        "1) next reading\n",
        "\n",
        "2) previous reading\n",
        "\n",
        "3) next nth reading\n",
        "\n",
        "4) previous nth reading\n",
        "\n",
        "5) distance between two readings"
      ],
      "metadata": {
        "id": "gmxhMbsISji8"
      }
    },
    {
      "cell_type": "code",
      "source": [
        "def no_zero(x):\n",
        "    return \"0\" not in str(x)\n",
        "\n",
        "def ascend_check(s):\n",
        "    if len(s) == 1:\n",
        "        return True\n",
        "    elif len(s) == 2 and int(s[-1]) <= int(s[-2]):\n",
        "        return False\n",
        "    elif len(s) > 2:\n",
        "        if int(s[-1]) > int(s[-2]):\n",
        "            return ascend_check(str(int(s) // 10))\n",
        "        return False\n",
        "    return True"
      ],
      "metadata": {
        "id": "VP4_HNC5glqe"
      },
      "execution_count": null,
      "outputs": []
    },
    {
      "cell_type": "code",
      "source": [
        "def combinator(n:int) ->[str]:\n",
        "    m = n-1\n",
        "    return [str(x) for x in range(10**m,10**n) if no_zero(x) and ascend_check(str(x))]"
      ],
      "metadata": {
        "id": "ggTdIdJva8PF"
      },
      "execution_count": null,
      "outputs": []
    },
    {
      "cell_type": "code",
      "source": [
        "len(combinator(4))"
      ],
      "metadata": {
        "colab": {
          "base_uri": "https://localhost:8080/"
        },
        "id": "k0C1_cixd1i9",
        "outputId": "b39b727d-ab64-4698-d4e0-bc7aa7ff802e"
      },
      "execution_count": null,
      "outputs": [
        {
          "output_type": "execute_result",
          "data": {
            "text/plain": [
              "126"
            ]
          },
          "metadata": {},
          "execution_count": 3
        }
      ]
    },
    {
      "cell_type": "code",
      "source": [
        "# Next nth reading: next_odo(no:of odo digits,\"reading\",next n)\n",
        "# enter -ve value for n if previous nth reading is required\n",
        "def next_odo(m:str,n:int) -> str:\n",
        "    k = len(m)\n",
        "    if combinator(k).index(m)+n < len(combinator(k)):\n",
        "        return combinator(k)[combinator(k).index(m)+n]\n",
        "    return combinator(k)[combinator(k).index(m)+n - len(combinator(n))]\n",
        "\n",
        "#Distance between 2 readings: dist_odo(no:of odo digits,reading1,reading2)\n",
        "def dist_odo(m:str,n:str) ->int:\n",
        "    k = len(m)\n",
        "    if m < n:\n",
        "        return combinator(k).index(n) - combinator(k).index(m)\n",
        "    return len(combinator(k)) - combinator(k).index(m) + combinator(k).index(n)"
      ],
      "metadata": {
        "id": "-4a2dgAo3DRr"
      },
      "execution_count": null,
      "outputs": []
    },
    {
      "cell_type": "code",
      "source": [
        "next_odo(\"6789\",5)"
      ],
      "metadata": {
        "colab": {
          "base_uri": "https://localhost:8080/",
          "height": 35
        },
        "id": "hnTdvvNr4xtM",
        "outputId": "d357544a-923e-47a9-a7db-810b0c87f8ef"
      },
      "execution_count": null,
      "outputs": [
        {
          "output_type": "execute_result",
          "data": {
            "text/plain": [
              "'1238'"
            ],
            "application/vnd.google.colaboratory.intrinsic+json": {
              "type": "string"
            }
          },
          "metadata": {},
          "execution_count": 5
        }
      ]
    },
    {
      "cell_type": "code",
      "source": [
        "next_odo(\"1238\",-11)"
      ],
      "metadata": {
        "colab": {
          "base_uri": "https://localhost:8080/",
          "height": 35
        },
        "id": "2e51qzMk9ERN",
        "outputId": "e7cf384b-58c4-455c-8a54-4d8741e4fa1f"
      },
      "execution_count": null,
      "outputs": [
        {
          "output_type": "execute_result",
          "data": {
            "text/plain": [
              "'4689'"
            ],
            "application/vnd.google.colaboratory.intrinsic+json": {
              "type": "string"
            }
          },
          "metadata": {},
          "execution_count": 7
        }
      ]
    },
    {
      "cell_type": "code",
      "source": [
        "dist_odo(\"6789\",\"1237\")"
      ],
      "metadata": {
        "colab": {
          "base_uri": "https://localhost:8080/"
        },
        "id": "msqfx0vn42lP",
        "outputId": "dcffbdfd-768b-424c-a86b-6027bf5ea82d"
      },
      "execution_count": null,
      "outputs": [
        {
          "output_type": "execute_result",
          "data": {
            "text/plain": [
              "4"
            ]
          },
          "metadata": {},
          "execution_count": 9
        }
      ]
    },
    {
      "cell_type": "markdown",
      "source": [
        "# Figures to words\n",
        "\n",
        "Figures to words\n",
        "\n",
        "1. Indian\n",
        "\n",
        "1. Western\n",
        "\n",
        "1675 -> \"One thousand Six hundred and seventy five\" \n",
        "786456 -> \"Seven lakhs eighty six thousand four hundred and fifty six\"\n",
        "        \"Seven hundred and eighty six thousand four hundred and fifty six\" \n",
        "\n",
        "Assume < 100 crore for Indian and < 1 Trillion for Western"
      ],
      "metadata": {
        "id": "2-Ub7Ulkvq61"
      }
    },
    {
      "cell_type": "code",
      "source": [
        "word_dict = {\n",
        "     \"1\" : [\"One\", \"One\"],\n",
        "     \"2\" : [\"Two\", \"Twenty\"],\n",
        "     \"3\" : [\"Three\", \"Thirty\"],\n",
        "     \"4\" : [\"Four\", \"Forty\"],\n",
        "     \"5\" : [\"Five\", \"Fifty\"],\n",
        "     \"6\" : [\"Six\", \"Sixty\"],\n",
        "     \"7\" : [\"Seven\", \"Seventy\"],\n",
        "     \"8\" : [\"Eight\", \"Eighty\"],\n",
        "     \"9\" : [\"Nine\", \"Ninety\"],\n",
        "     \"10\" : [\"Ten\"],\n",
        "     \"11\" : [\"Eleven\"],\n",
        "     \"12\" : [\"Twelve\"],\n",
        "     \"13\" : [\"Thirteen\"],\n",
        "     \"14\" : [\"Fourteen\"],\n",
        "     \"15\" : [\"Fifteen\"],\n",
        "     \"!6\" : [\"Sixteen\"],\n",
        "     \"17\" : [\"Seventeen\"],\n",
        "     \"18\" : [\"Eighteen\"],\n",
        "     \"19\" : [\"Nineteen\"]\n",
        "    }\n",
        "    \n",
        "\n",
        "place_dict1 = {\n",
        "    -3 : \"Hundred\",\n",
        "    -4 : \"Thousand\",\n",
        "    -5 : \"Thousand\",\n",
        "    -6 : \"Lakhs\",\n",
        "    -7 : \"Lakhs\",\n",
        "    -8 : \"Crore\",\n",
        "    -9 : \"Crore\",\n",
        "}\n",
        "\n",
        "place_dict2 = {\n",
        "    -3 : \"Hundred\",\n",
        "    -4 : \"Thousand\",\n",
        "    -5 : \"Thousand\",\n",
        "    -6 : \"Thousand\",\n",
        "    -7 : \"Million\",\n",
        "    -8 : \"Million\",\n",
        "    -9 : \"Million\",\n",
        "    -10 : \"Billion\",\n",
        "    -11 : \"Billion\",\n",
        "    -12 : \"Billion\",\n",
        "    -13 : \"Trillion\",\n",
        "}"
      ],
      "metadata": {
        "id": "yId3h8V2v91T"
      },
      "execution_count": 18,
      "outputs": []
    },
    {
      "cell_type": "code",
      "source": [
        "word_dict[\"5\"] , place_dict1[-3]"
      ],
      "metadata": {
        "colab": {
          "base_uri": "https://localhost:8080/"
        },
        "id": "1bP61rhRzeYz",
        "outputId": "64e97c1a-9ee2-4539-ecc8-cbc1d1c1fa82"
      },
      "execution_count": null,
      "outputs": [
        {
          "output_type": "execute_result",
          "data": {
            "text/plain": [
              "(['Five', 'fifty'], 'Hundred')"
            ]
          },
          "metadata": {},
          "execution_count": 40
        }
      ]
    },
    {
      "cell_type": "code",
      "source": [
        "def num2word(s:str) ->str:\n",
        "    if int(s) > 999999999:\n",
        "        return (\"You'll walk alone!\")\n",
        "    if len(s) == 1:\n",
        "        return (word_dict[s][0])\n",
        "    if len(s) == 2:\n",
        "        if s in word_dict:\n",
        "            return \"\".join(word_dict[s])\n",
        "        if s[-1] == \"0\":\n",
        "            return word_dict[s[-2]][1]\n",
        "        return word_dict[s[-2]][1] + \" \" + word_dict[s[-1]][0]\n",
        "    k = int(len(s))\n",
        "    if k % 2 == 0 and int(s) % 10**(k-1) == 0:\n",
        "        return word_dict[s[0]][0] + \" \" + place_dict1[-int(len(s))]\n",
        "    if k % 2 != 0 and int(s) % 10**(k-2) == 0:\n",
        "        return num2word(s[:2]) + \" \" + place_dict1[-int(len(s))]\n",
        "    if k == 3:\n",
        "        return num2word(s[0]) + \" \" + place_dict1[-int(len(s))] + \" and \" + num2word(str(int(s) % 10**(k-1)))\n",
        "    if k % 2 == 0:\n",
        "        return num2word(s[0]) + \" \" + place_dict1[-int(len(s))] + \" \" + num2word(str(int(s) % 10**(k-1)))\n",
        "    return num2word(s[:2]) + \" \" + place_dict1[-int(len(s))] + \" \" + num2word(str(int(s) % 10**(k-2)))\n"
      ],
      "metadata": {
        "id": "kyFRTeanzkvW"
      },
      "execution_count": 2,
      "outputs": []
    },
    {
      "cell_type": "code",
      "source": [
        "num2word(\"987654321\")"
      ],
      "metadata": {
        "colab": {
          "base_uri": "https://localhost:8080/",
          "height": 35
        },
        "id": "GbyGKGBI1jJd",
        "outputId": "1b84101e-6e28-475f-9cbb-3fc9d8b3ad1e"
      },
      "execution_count": null,
      "outputs": [
        {
          "output_type": "execute_result",
          "data": {
            "text/plain": [
              "'Ninety Eight Crore Seventy Six Lakhs Fifty Four Thousand Three Hundred and Twenty One'"
            ],
            "application/vnd.google.colaboratory.intrinsic+json": {
              "type": "string"
            }
          },
          "metadata": {},
          "execution_count": 204
        }
      ]
    },
    {
      "cell_type": "code",
      "source": [
        "num2word(\"200000001\"), len(\"200000000\")"
      ],
      "metadata": {
        "colab": {
          "base_uri": "https://localhost:8080/"
        },
        "id": "hrrq3nMX1ktd",
        "outputId": "5958e06e-6292-4b7a-c74a-a251f23abf53"
      },
      "execution_count": null,
      "outputs": [
        {
          "output_type": "execute_result",
          "data": {
            "text/plain": [
              "('Twenty Crore One', 9)"
            ]
          },
          "metadata": {},
          "execution_count": 205
        }
      ]
    },
    {
      "cell_type": "code",
      "source": [
        "def num2usword(s:str) ->str:\n",
        "    if int(s) > 999999999999:\n",
        "        return (\"Trillionaire!\")\n",
        "    if len(s) == 1:\n",
        "        return (word_dict[s][0])\n",
        "    if len(s) == 2:\n",
        "        if s in word_dict:\n",
        "            return \"\".join(word_dict[s])\n",
        "        if s[-1] == \"0\":\n",
        "            return word_dict[s[-2]][1]\n",
        "        return word_dict[s[-2]][1] + \" \" + word_dict[s[-1]][0]\n",
        "    k = int(len(s))\n",
        "    if k == 3:\n",
        "        if int(s) % 100 == 0:\n",
        "            return num2usword(s[0]) + \" \" + place_dict2[-int(k)]\n",
        "        return num2word(s[0]) + \" \" + place_dict2[-int(k)] + \" and \" + num2usword(str(int(s) % 10**(k-1)))\n",
        "    if k in [4,7,10]:\n",
        "        if int(s) % 10**(k-1) == 0:\n",
        "            return num2usword(s[0]) + \" \" + place_dict2[-int(k)]\n",
        "        return num2usword(s[0]) + \" \" + place_dict2[-int(k)] + \" \" + num2usword(str(int(s) % 10**(k-1)))\n",
        "    if k in [5,8,11]:\n",
        "        if int(s) % 10**(k-2) == 0:\n",
        "            return num2usword(s[:2]) + \" \" + place_dict2[-int(k)]\n",
        "        return num2usword(s[:2]) + \" \" + place_dict2[-int(k)] + \" \" + num2usword(str(int(s) % 10**(k-2)))\n",
        "    if k in [6,9,12]:\n",
        "        if int(s) % 10**(k-3) == 0:\n",
        "            return num2usword(s[:3]) + \" \" + place_dict2[-int(k)]\n",
        "        return num2usword(s[:3]) + \" \" + place_dict2[-int(k)] + \" \" + num2usword(str(int(s) % 10**(k-3))) "
      ],
      "metadata": {
        "id": "VLuRQNwhLrAI"
      },
      "execution_count": 16,
      "outputs": []
    },
    {
      "cell_type": "code",
      "source": [
        "num2usword(\"2222222222222\")"
      ],
      "metadata": {
        "colab": {
          "base_uri": "https://localhost:8080/",
          "height": 35
        },
        "id": "cMiCb5y1rY9h",
        "outputId": "89658af0-b937-40a1-cc1f-c0602b44e5b2"
      },
      "execution_count": 26,
      "outputs": [
        {
          "output_type": "execute_result",
          "data": {
            "text/plain": [
              "'Trillionaire!'"
            ],
            "application/vnd.google.colaboratory.intrinsic+json": {
              "type": "string"
            }
          },
          "metadata": {},
          "execution_count": 26
        }
      ]
    },
    {
      "cell_type": "code",
      "source": [
        ""
      ],
      "metadata": {
        "id": "MCsYCDtnrbV0"
      },
      "execution_count": null,
      "outputs": []
    }
  ]
}