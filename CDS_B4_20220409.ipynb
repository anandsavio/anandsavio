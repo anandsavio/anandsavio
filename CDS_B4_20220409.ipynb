{
  "nbformat": 4,
  "nbformat_minor": 0,
  "metadata": {
    "colab": {
      "name": "CDS-B4-20220409.ipynb",
      "private_outputs": true,
      "provenance": [],
      "collapsed_sections": [],
      "include_colab_link": true
    },
    "kernelspec": {
      "name": "python3",
      "display_name": "Python 3"
    },
    "language_info": {
      "name": "python"
    }
  },
  "cells": [
    {
      "cell_type": "markdown",
      "metadata": {
        "id": "view-in-github",
        "colab_type": "text"
      },
      "source": [
        "<a href=\"https://colab.research.google.com/github/anandsavio/anandsavio/blob/main/CDS_B4_20220409.ipynb\" target=\"_parent\"><img src=\"https://colab.research.google.com/assets/colab-badge.svg\" alt=\"Open In Colab\"/></a>"
      ]
    },
    {
      "cell_type": "markdown",
      "source": [
        "## More Python!\n",
        "## More problems!!\n",
        "## More discussions!!!"
      ],
      "metadata": {
        "id": "PPvGaE2WXBTf"
      }
    },
    {
      "cell_type": "markdown",
      "source": [
        " #### Morning\n",
        " * Quick review of lists/strings/sets\n",
        " * Problems\n",
        " #### Afternoon\n",
        " * Quick review of dictionaries\n",
        " * Problems\n"
      ],
      "metadata": {
        "id": "8uMVPjlMXO5R"
      }
    },
    {
      "cell_type": "code",
      "source": [
        "f = [0, 1, 1, 2,  3,  5,  8, 13, 21, 34, 55]\n",
        "p = [2, 3, 5, 7, 11, 13, 17, 19, 23, 29, 31]"
      ],
      "metadata": {
        "id": "M32fNSTMXiOI"
      },
      "execution_count": null,
      "outputs": []
    },
    {
      "cell_type": "code",
      "source": [
        "f.append(89)"
      ],
      "metadata": {
        "id": "SXgb-ZwlYCaY"
      },
      "execution_count": null,
      "outputs": []
    },
    {
      "cell_type": "code",
      "source": [
        "len(f)"
      ],
      "metadata": {
        "id": "G9tvHWWgYKs-"
      },
      "execution_count": null,
      "outputs": []
    },
    {
      "cell_type": "code",
      "source": [
        "len(p)"
      ],
      "metadata": {
        "id": "lh_zw03XYM6e"
      },
      "execution_count": null,
      "outputs": []
    },
    {
      "cell_type": "code",
      "source": [
        "p.append(37)"
      ],
      "metadata": {
        "id": "UiGJgANYYObu"
      },
      "execution_count": null,
      "outputs": []
    },
    {
      "cell_type": "code",
      "source": [
        "len(p)"
      ],
      "metadata": {
        "id": "Y98QgWXeYQqm"
      },
      "execution_count": null,
      "outputs": []
    },
    {
      "cell_type": "code",
      "source": [
        "g = [1, 2, 3]"
      ],
      "metadata": {
        "id": "o1X6rq55YRsv"
      },
      "execution_count": null,
      "outputs": []
    },
    {
      "cell_type": "code",
      "source": [
        "g.append([7, 12])"
      ],
      "metadata": {
        "id": "QAOPU7w8YuMP"
      },
      "execution_count": null,
      "outputs": []
    },
    {
      "cell_type": "code",
      "source": [
        "len(g)"
      ],
      "metadata": {
        "id": "OjJMuna9YwQN"
      },
      "execution_count": null,
      "outputs": []
    },
    {
      "cell_type": "code",
      "source": [
        "print(g)"
      ],
      "metadata": {
        "id": "3mYCU-RzY3rF"
      },
      "execution_count": null,
      "outputs": []
    },
    {
      "cell_type": "code",
      "source": [
        "h = [1, 2, 3]\n",
        "h.extend([7, 12])"
      ],
      "metadata": {
        "id": "TlcLXfrBY6hk"
      },
      "execution_count": null,
      "outputs": []
    },
    {
      "cell_type": "code",
      "source": [
        "print(h)"
      ],
      "metadata": {
        "id": "OkTQhKcSZIk-"
      },
      "execution_count": null,
      "outputs": []
    },
    {
      "cell_type": "code",
      "source": [
        "print(f)\n",
        "print(p)"
      ],
      "metadata": {
        "id": "RF3Ecj0nZJ5l"
      },
      "execution_count": null,
      "outputs": []
    },
    {
      "cell_type": "code",
      "source": [
        "print(g)"
      ],
      "metadata": {
        "id": "i-V-xiEgaQGU"
      },
      "execution_count": null,
      "outputs": []
    },
    {
      "cell_type": "code",
      "source": [
        "f[0]"
      ],
      "metadata": {
        "id": "b-QxPtkHamO8"
      },
      "execution_count": null,
      "outputs": []
    },
    {
      "cell_type": "code",
      "source": [
        "p[2]"
      ],
      "metadata": {
        "id": "vrcT49r4ardq"
      },
      "execution_count": null,
      "outputs": []
    },
    {
      "cell_type": "code",
      "source": [
        "p[-1]"
      ],
      "metadata": {
        "id": "uSX7q3Ela00L"
      },
      "execution_count": null,
      "outputs": []
    },
    {
      "cell_type": "code",
      "source": [
        "p[-2], p[-7]"
      ],
      "metadata": {
        "id": "NZJItbMRa3SS"
      },
      "execution_count": null,
      "outputs": []
    },
    {
      "cell_type": "code",
      "source": [
        "p[15]"
      ],
      "metadata": {
        "id": "adagpzhzc8Va"
      },
      "execution_count": null,
      "outputs": []
    },
    {
      "cell_type": "code",
      "source": [
        "p[-45]"
      ],
      "metadata": {
        "id": "DJeD7M9pc-JE"
      },
      "execution_count": null,
      "outputs": []
    },
    {
      "cell_type": "code",
      "source": [
        "print(f)\n",
        "print(p)"
      ],
      "metadata": {
        "id": "ooUmstv2dVsx"
      },
      "execution_count": null,
      "outputs": []
    },
    {
      "cell_type": "code",
      "source": [
        "f[4:7]"
      ],
      "metadata": {
        "id": "L0MH08DMdB8x"
      },
      "execution_count": null,
      "outputs": []
    },
    {
      "cell_type": "code",
      "source": [
        "print(g)"
      ],
      "metadata": {
        "id": "IEKMLrSOdZBw"
      },
      "execution_count": null,
      "outputs": []
    },
    {
      "cell_type": "code",
      "source": [
        "g[3][0]"
      ],
      "metadata": {
        "id": "zfTut_Ltd3hg"
      },
      "execution_count": null,
      "outputs": []
    },
    {
      "cell_type": "code",
      "source": [
        "f[3:9]"
      ],
      "metadata": {
        "id": "cNTLHgZseHGZ"
      },
      "execution_count": null,
      "outputs": []
    },
    {
      "cell_type": "code",
      "source": [
        "f[3:-2]"
      ],
      "metadata": {
        "id": "9ze29Um2evQQ"
      },
      "execution_count": null,
      "outputs": []
    },
    {
      "cell_type": "code",
      "source": [
        "f[3:1]"
      ],
      "metadata": {
        "id": "Ezdn_vUUew7Q"
      },
      "execution_count": null,
      "outputs": []
    },
    {
      "cell_type": "code",
      "source": [
        "print(f)\n",
        "print(f[3:-2])\n",
        "print(f[4:9])"
      ],
      "metadata": {
        "id": "J5TjJcxwfB5g"
      },
      "execution_count": null,
      "outputs": []
    },
    {
      "cell_type": "code",
      "source": [
        "f[3:23]"
      ],
      "metadata": {
        "id": "VfKKR4yMfdDN"
      },
      "execution_count": null,
      "outputs": []
    },
    {
      "cell_type": "code",
      "source": [
        "f[3:11:2]"
      ],
      "metadata": {
        "id": "Z0wNoDPmgm6x"
      },
      "execution_count": null,
      "outputs": []
    },
    {
      "cell_type": "code",
      "source": [
        "print(f)"
      ],
      "metadata": {
        "id": "RYKcFw2OgwPF"
      },
      "execution_count": null,
      "outputs": []
    },
    {
      "cell_type": "code",
      "source": [
        "f[::-1]"
      ],
      "metadata": {
        "id": "rDpXM6Y6gxtf"
      },
      "execution_count": null,
      "outputs": []
    },
    {
      "cell_type": "code",
      "source": [
        "f[::-2]"
      ],
      "metadata": {
        "id": "fPko1oClg-yC"
      },
      "execution_count": null,
      "outputs": []
    },
    {
      "cell_type": "code",
      "source": [
        "f[2:3], f[2]"
      ],
      "metadata": {
        "id": "82FNjUMzhA-u"
      },
      "execution_count": null,
      "outputs": []
    },
    {
      "cell_type": "code",
      "source": [
        "f[::2]"
      ],
      "metadata": {
        "id": "-RE7cnN8hMLF"
      },
      "execution_count": null,
      "outputs": []
    },
    {
      "cell_type": "code",
      "source": [
        "f[:3]"
      ],
      "metadata": {
        "id": "bgiE3_K3hkQ9"
      },
      "execution_count": null,
      "outputs": []
    },
    {
      "cell_type": "code",
      "source": [
        "f[5:]"
      ],
      "metadata": {
        "id": "zYzbjoJfhqYb"
      },
      "execution_count": null,
      "outputs": []
    },
    {
      "cell_type": "code",
      "source": [
        "f[:]"
      ],
      "metadata": {
        "id": "EOdiCUMnhr48"
      },
      "execution_count": null,
      "outputs": []
    },
    {
      "cell_type": "code",
      "source": [
        "f[::1]"
      ],
      "metadata": {
        "id": "9HafjHqTh9Me"
      },
      "execution_count": null,
      "outputs": []
    },
    {
      "cell_type": "code",
      "source": [
        "f"
      ],
      "metadata": {
        "id": "5j5EcsZNh_08"
      },
      "execution_count": null,
      "outputs": []
    },
    {
      "cell_type": "code",
      "source": [
        "g"
      ],
      "metadata": {
        "id": "jOOSM1h1iIWa"
      },
      "execution_count": null,
      "outputs": []
    },
    {
      "cell_type": "code",
      "source": [
        "g[1:][2]"
      ],
      "metadata": {
        "id": "ID4iUXAeixOF"
      },
      "execution_count": null,
      "outputs": []
    },
    {
      "cell_type": "code",
      "source": [
        "f[2:12:-2]"
      ],
      "metadata": {
        "id": "9wubXHvmjA2M"
      },
      "execution_count": null,
      "outputs": []
    },
    {
      "cell_type": "code",
      "source": [
        "g[1:][1]"
      ],
      "metadata": {
        "id": "3xocgLdfjoQD"
      },
      "execution_count": null,
      "outputs": []
    },
    {
      "cell_type": "code",
      "source": [
        "g[1:]"
      ],
      "metadata": {
        "id": "nZ_PlakIkf4y"
      },
      "execution_count": null,
      "outputs": []
    },
    {
      "cell_type": "code",
      "source": [
        "h"
      ],
      "metadata": {
        "id": "34iQa6fUkqzp"
      },
      "execution_count": null,
      "outputs": []
    },
    {
      "cell_type": "code",
      "source": [
        "h[1:3]"
      ],
      "metadata": {
        "id": "CV46o__Uk3zy"
      },
      "execution_count": null,
      "outputs": []
    },
    {
      "cell_type": "code",
      "source": [
        "h[1:3] = [6, 8]"
      ],
      "metadata": {
        "id": "jCeyxUifk5j3"
      },
      "execution_count": null,
      "outputs": []
    },
    {
      "cell_type": "code",
      "source": [
        "h"
      ],
      "metadata": {
        "id": "VB4z-NDfk8Rv"
      },
      "execution_count": null,
      "outputs": []
    },
    {
      "cell_type": "code",
      "source": [
        "p"
      ],
      "metadata": {
        "id": "3mf56p3uk8wp"
      },
      "execution_count": null,
      "outputs": []
    },
    {
      "cell_type": "code",
      "source": [
        "p[2:1:-2]"
      ],
      "metadata": {
        "id": "BMa3V6fUlTwu"
      },
      "execution_count": null,
      "outputs": []
    },
    {
      "cell_type": "code",
      "source": [
        "hw = \"Hello Python world!\""
      ],
      "metadata": {
        "id": "FrACrFZClZRn"
      },
      "execution_count": null,
      "outputs": []
    },
    {
      "cell_type": "code",
      "source": [
        "hw[0]"
      ],
      "metadata": {
        "id": "mmXirBL7mNHb"
      },
      "execution_count": null,
      "outputs": []
    },
    {
      "cell_type": "code",
      "source": [
        "hw[-1]"
      ],
      "metadata": {
        "id": "plhelbPvmPJp"
      },
      "execution_count": null,
      "outputs": []
    },
    {
      "cell_type": "code",
      "source": [
        "hw[4:9]"
      ],
      "metadata": {
        "id": "S12SWzvlmQv0"
      },
      "execution_count": null,
      "outputs": []
    },
    {
      "cell_type": "code",
      "source": [
        "hw[3:12:2]"
      ],
      "metadata": {
        "id": "lH0krMt1mTbJ"
      },
      "execution_count": null,
      "outputs": []
    },
    {
      "cell_type": "code",
      "source": [
        "hw[::-1]"
      ],
      "metadata": {
        "id": "Ua9MO6rqmVcK"
      },
      "execution_count": null,
      "outputs": []
    },
    {
      "cell_type": "code",
      "source": [
        "f[2:3][0]"
      ],
      "metadata": {
        "id": "YOgIghtRmWkC"
      },
      "execution_count": null,
      "outputs": []
    },
    {
      "cell_type": "code",
      "source": [
        "hw[0] = 'h'"
      ],
      "metadata": {
        "id": "JJuQdH0Dm-uQ"
      },
      "execution_count": null,
      "outputs": []
    },
    {
      "cell_type": "code",
      "source": [
        "hw += \" You are good\""
      ],
      "metadata": {
        "id": "DMRoiVwvnVbN"
      },
      "execution_count": null,
      "outputs": []
    },
    {
      "cell_type": "code",
      "source": [
        "print(hw)"
      ],
      "metadata": {
        "id": "F1Pd0s1Mnahl"
      },
      "execution_count": null,
      "outputs": []
    },
    {
      "cell_type": "code",
      "source": [
        "p[2:1:-2] "
      ],
      "metadata": {
        "id": "_PPPIGv1ncQ9"
      },
      "execution_count": null,
      "outputs": []
    },
    {
      "cell_type": "code",
      "source": [
        "hw[::-1], hw[-1::-1]"
      ],
      "metadata": {
        "id": "axkv3f2GoJcS"
      },
      "execution_count": null,
      "outputs": []
    },
    {
      "cell_type": "code",
      "source": [
        "hw.replace(\"good\", \"bad\")"
      ],
      "metadata": {
        "id": "WoIL7N7YohXg"
      },
      "execution_count": null,
      "outputs": []
    },
    {
      "cell_type": "code",
      "source": [
        "hw"
      ],
      "metadata": {
        "id": "nzL56CDdo9ga"
      },
      "execution_count": null,
      "outputs": []
    },
    {
      "cell_type": "code",
      "source": [
        "hw[::-3]"
      ],
      "metadata": {
        "id": "2PL-x1qao9-v"
      },
      "execution_count": null,
      "outputs": []
    },
    {
      "cell_type": "code",
      "source": [
        "hw[::-1]"
      ],
      "metadata": {
        "id": "JxMMC2uqpWBC"
      },
      "execution_count": null,
      "outputs": []
    },
    {
      "cell_type": "code",
      "source": [
        "hw[::-1][::3]"
      ],
      "metadata": {
        "id": "Hte9kflLpmln"
      },
      "execution_count": null,
      "outputs": []
    },
    {
      "cell_type": "code",
      "source": [
        "g"
      ],
      "metadata": {
        "id": "wUbHF2zFpo_Z"
      },
      "execution_count": null,
      "outputs": []
    },
    {
      "cell_type": "code",
      "source": [
        "p[2:1:-2]"
      ],
      "metadata": {
        "id": "fL-5KeWxpz05"
      },
      "execution_count": null,
      "outputs": []
    },
    {
      "cell_type": "code",
      "source": [
        "p[1:2:2]"
      ],
      "metadata": {
        "id": "VVXoSosup66f"
      },
      "execution_count": null,
      "outputs": []
    },
    {
      "cell_type": "code",
      "source": [
        "p[2:3:2]"
      ],
      "metadata": {
        "id": "L8gEgLgZqR_Q"
      },
      "execution_count": null,
      "outputs": []
    },
    {
      "cell_type": "code",
      "source": [
        "s1 = 'Hello'\n",
        "s2 = \"world\""
      ],
      "metadata": {
        "id": "BFV6lB0qqW9_"
      },
      "execution_count": null,
      "outputs": []
    },
    {
      "cell_type": "code",
      "source": [
        "s11 = 'He said, \"I am Asokan\" very sadly'"
      ],
      "metadata": {
        "id": "tFsIiD0gq7nh"
      },
      "execution_count": null,
      "outputs": []
    },
    {
      "cell_type": "code",
      "source": [
        "print(s11)"
      ],
      "metadata": {
        "id": "e08ketmwrBya"
      },
      "execution_count": null,
      "outputs": []
    },
    {
      "cell_type": "code",
      "source": [
        "s21 = \"He said I'm Asokan, very sadly\""
      ],
      "metadata": {
        "id": "FdnKdb4TrEpY"
      },
      "execution_count": null,
      "outputs": []
    },
    {
      "cell_type": "code",
      "source": [
        "s3 = '''Long long ago, in a galaxy\n",
        "far far away there was Princess Leia.\n",
        "She was accompanied by R2D2 and C3Po'''"
      ],
      "metadata": {
        "id": "LzHM-ydjrKEA"
      },
      "execution_count": null,
      "outputs": []
    },
    {
      "cell_type": "code",
      "source": [
        "print(s3)"
      ],
      "metadata": {
        "id": "JmLbUEw4rdgY"
      },
      "execution_count": null,
      "outputs": []
    },
    {
      "cell_type": "code",
      "source": [
        "s3 = '''Long long ago, in a galaxy 'Gaia'\n",
        "far far away there was Princess \"Leia\".\n",
        "She was accompanied by R2D2 and C3Po'''"
      ],
      "metadata": {
        "id": "0Z2u9PenrhrR"
      },
      "execution_count": null,
      "outputs": []
    },
    {
      "cell_type": "code",
      "source": [
        "print(s3)"
      ],
      "metadata": {
        "id": "5vIOvSezrpeH"
      },
      "execution_count": null,
      "outputs": []
    },
    {
      "cell_type": "code",
      "source": [
        "s3d = \"\"\"Long long ago, in a galaxy 'Gaia'\n",
        "far far away there was Princess \"Leia\".\n",
        "She was accompanied by R2D2 and C3PO\"\"\""
      ],
      "metadata": {
        "id": "rZCT4gO5rq2L"
      },
      "execution_count": null,
      "outputs": []
    },
    {
      "cell_type": "code",
      "source": [
        "print(s3d)"
      ],
      "metadata": {
        "id": "ZlbxjTn5rzug"
      },
      "execution_count": null,
      "outputs": []
    },
    {
      "cell_type": "code",
      "source": [
        "hw"
      ],
      "metadata": {
        "id": "A-vNx2FVr09w"
      },
      "execution_count": null,
      "outputs": []
    },
    {
      "cell_type": "code",
      "source": [
        "print(hw)"
      ],
      "metadata": {
        "id": "iM4a8qZwsF4K"
      },
      "execution_count": null,
      "outputs": []
    },
    {
      "cell_type": "code",
      "source": [
        "spl = \"Hello\\nworld\""
      ],
      "metadata": {
        "id": "H6wvmf3TsHkg"
      },
      "execution_count": null,
      "outputs": []
    },
    {
      "cell_type": "code",
      "source": [
        "spl"
      ],
      "metadata": {
        "id": "EaLoonsmsU1P"
      },
      "execution_count": null,
      "outputs": []
    },
    {
      "cell_type": "code",
      "source": [
        "print(spl)"
      ],
      "metadata": {
        "id": "8wfKo7S_sVmj"
      },
      "execution_count": null,
      "outputs": []
    },
    {
      "cell_type": "code",
      "source": [
        "hhh = \"\"\"Hello\\nworld\"\"\""
      ],
      "metadata": {
        "id": "_CcqdUp1sYkI"
      },
      "execution_count": null,
      "outputs": []
    },
    {
      "cell_type": "code",
      "source": [
        "print(hhh)"
      ],
      "metadata": {
        "id": "sr4HRo9-svj_"
      },
      "execution_count": null,
      "outputs": []
    },
    {
      "cell_type": "code",
      "source": [
        "hhh"
      ],
      "metadata": {
        "id": "AyRe3vYMs43A"
      },
      "execution_count": null,
      "outputs": []
    },
    {
      "cell_type": "code",
      "source": [
        "hw"
      ],
      "metadata": {
        "id": "InQeqC30s6Lu"
      },
      "execution_count": null,
      "outputs": []
    },
    {
      "cell_type": "code",
      "source": [
        "hw[3:12]"
      ],
      "metadata": {
        "id": "_-pEFg2KvAPR"
      },
      "execution_count": null,
      "outputs": []
    },
    {
      "cell_type": "code",
      "source": [
        "hw[3:12:2]"
      ],
      "metadata": {
        "id": "AZt3SxkavDEZ"
      },
      "execution_count": null,
      "outputs": []
    },
    {
      "cell_type": "code",
      "source": [
        "hw[:12:2]"
      ],
      "metadata": {
        "id": "LRWInDT9vLgD"
      },
      "execution_count": null,
      "outputs": []
    },
    {
      "cell_type": "code",
      "source": [
        "h"
      ],
      "metadata": {
        "id": "AVxyuyciwFZS"
      },
      "execution_count": null,
      "outputs": []
    },
    {
      "cell_type": "code",
      "source": [
        "a = h"
      ],
      "metadata": {
        "id": "CkytLO0GwwA0"
      },
      "execution_count": null,
      "outputs": []
    },
    {
      "cell_type": "code",
      "source": [
        "id(a)"
      ],
      "metadata": {
        "id": "n804pZmcwxRH"
      },
      "execution_count": null,
      "outputs": []
    },
    {
      "cell_type": "code",
      "source": [
        "id(h)"
      ],
      "metadata": {
        "id": "1BFrbv5Hw8vk"
      },
      "execution_count": null,
      "outputs": []
    },
    {
      "cell_type": "code",
      "source": [
        "a.append(17)"
      ],
      "metadata": {
        "id": "06wk7iHWw9gF"
      },
      "execution_count": null,
      "outputs": []
    },
    {
      "cell_type": "code",
      "source": [
        "id(a)"
      ],
      "metadata": {
        "id": "dH4ofZ2ExMJt"
      },
      "execution_count": null,
      "outputs": []
    },
    {
      "cell_type": "code",
      "source": [
        "id(h)"
      ],
      "metadata": {
        "id": "LzSnurEqxNAd"
      },
      "execution_count": null,
      "outputs": []
    },
    {
      "cell_type": "code",
      "source": [
        "a"
      ],
      "metadata": {
        "id": "oR0mS7vOxN3m"
      },
      "execution_count": null,
      "outputs": []
    },
    {
      "cell_type": "code",
      "source": [
        "h"
      ],
      "metadata": {
        "id": "Zw9NlVfhxO2t"
      },
      "execution_count": null,
      "outputs": []
    },
    {
      "cell_type": "code",
      "source": [
        "b = h[:]"
      ],
      "metadata": {
        "id": "R5t94FHXxPZ0"
      },
      "execution_count": null,
      "outputs": []
    },
    {
      "cell_type": "code",
      "source": [
        "id(b)"
      ],
      "metadata": {
        "id": "PPF4LuDpxl6f"
      },
      "execution_count": null,
      "outputs": []
    },
    {
      "cell_type": "code",
      "source": [
        "rec = \"Name emailID address\""
      ],
      "metadata": {
        "id": "ntUA-ngBxnlG"
      },
      "execution_count": null,
      "outputs": []
    },
    {
      "cell_type": "code",
      "source": [
        "rec.split()"
      ],
      "metadata": {
        "id": "nRPeYjJ12Tr5"
      },
      "execution_count": null,
      "outputs": []
    },
    {
      "cell_type": "code",
      "source": [
        "\"name       \\n\\t phone\".split()"
      ],
      "metadata": {
        "id": "60dzD7NT2VR_"
      },
      "execution_count": null,
      "outputs": []
    },
    {
      "cell_type": "code",
      "source": [
        "rec.split(' ')"
      ],
      "metadata": {
        "id": "CMSZl6E82iEn"
      },
      "execution_count": null,
      "outputs": []
    },
    {
      "cell_type": "code",
      "source": [
        "\"name       \\n\\t phone\".split(' ')"
      ],
      "metadata": {
        "id": "3hPAoHt12yHG"
      },
      "execution_count": null,
      "outputs": []
    },
    {
      "cell_type": "code",
      "source": [
        "\"name, subject, mark\".split(\",\")"
      ],
      "metadata": {
        "id": "5FkG14T321he"
      },
      "execution_count": null,
      "outputs": []
    },
    {
      "cell_type": "code",
      "source": [
        "\"Asokan, 76, 32, 67\".split(',')"
      ],
      "metadata": {
        "id": "rXhM55993Ijm"
      },
      "execution_count": null,
      "outputs": []
    },
    {
      "cell_type": "code",
      "source": [
        "sp2 = \"name       \\n\\t phone\""
      ],
      "metadata": {
        "id": "yeM-6mCK3UYW"
      },
      "execution_count": null,
      "outputs": []
    },
    {
      "cell_type": "code",
      "source": [
        "len(sp2)"
      ],
      "metadata": {
        "id": "ho7BOW1o3kF_"
      },
      "execution_count": null,
      "outputs": []
    },
    {
      "cell_type": "code",
      "source": [
        "sp2.split()"
      ],
      "metadata": {
        "id": "5fMeYEMO3k-n"
      },
      "execution_count": null,
      "outputs": []
    },
    {
      "cell_type": "code",
      "source": [
        "sp2.split(' ')"
      ],
      "metadata": {
        "id": "JOX8trgO3qsG"
      },
      "execution_count": null,
      "outputs": []
    },
    {
      "cell_type": "code",
      "source": [
        "print(sp2)"
      ],
      "metadata": {
        "id": "2lPBJRwD3wHX"
      },
      "execution_count": null,
      "outputs": []
    },
    {
      "cell_type": "code",
      "source": [
        "st = ' I, am, good '\n",
        "pieces = st.split(' ')\n",
        "print(pieces[0])\n",
        "print(len(pieces[0]))"
      ],
      "metadata": {
        "id": "BbWZ7iMb6aEy"
      },
      "execution_count": null,
      "outputs": []
    },
    {
      "cell_type": "code",
      "source": [
        "len(st.split(' ')[0])"
      ],
      "metadata": {
        "id": "-JqLp-2c61M1"
      },
      "execution_count": null,
      "outputs": []
    },
    {
      "cell_type": "code",
      "source": [
        "hwpl = [\"Hello\", \"World\", \"Python\"]"
      ],
      "metadata": {
        "id": "_aWG4Blk69Lt"
      },
      "execution_count": null,
      "outputs": []
    },
    {
      "cell_type": "code",
      "source": [
        "'+'.join(hwpl)"
      ],
      "metadata": {
        "id": "n9qQMlem7XIu"
      },
      "execution_count": null,
      "outputs": []
    },
    {
      "cell_type": "code",
      "source": [
        "'XYZ'.join(hwpl)"
      ],
      "metadata": {
        "id": "ByqAmAoy7bzL"
      },
      "execution_count": null,
      "outputs": []
    },
    {
      "cell_type": "code",
      "source": [
        "''.join(hwpl)"
      ],
      "metadata": {
        "id": "VNoZNZgo7hzs"
      },
      "execution_count": null,
      "outputs": []
    },
    {
      "cell_type": "markdown",
      "source": [
        "Given a string of the form, representing **valid** dates,\n",
        "\n",
        "\"dd/mm/yyyy\" or \"dd-mm-yyyy\"\n",
        "\n",
        "where both dd and mm may or may not have leading zeros, write a function that returns the seven digit integer yyyyddd, where ddd in the n$^{th}$ day of the year\n",
        "\n",
        "Examples\n",
        "\n",
        " \"7/3/2001\" ==> 2001066\n",
        "\n",
        " \"09/04/2000\" ==> 2000100\n"
      ],
      "metadata": {
        "id": "6p37psHp7kDO"
      }
    },
    {
      "cell_type": "code",
      "source": [
        "def split(date: str) -> (int, int, int):\n",
        "    if '-' in date:\n",
        "        sep = '-'\n",
        "    else:\n",
        "        sep = '/'\n",
        "    sdd, smm, syyyy = date.split(sep)\n",
        "    return int(sdd), int(smm), int(syyyy)"
      ],
      "metadata": {
        "id": "u_PNfHrQ8siT"
      },
      "execution_count": null,
      "outputs": []
    },
    {
      "cell_type": "code",
      "source": [
        "def is_leap(y: int) -> bool:\n",
        "    if y % 100 == 0:\n",
        "        return y % 400 == 0\n",
        "    else:\n",
        "        return y % 4 == 0"
      ],
      "metadata": {
        "id": "7m0HJH5-B7MM"
      },
      "execution_count": null,
      "outputs": []
    },
    {
      "cell_type": "code",
      "source": [
        "def convert(s: str) -> int:\n",
        "    UPTO_DAYS_ORDY = [0, 0, 31, 59, 90, 120, 151, 181, 212, 243, 273, 304, 334]\n",
        "    UPTO_DAYS_LEAP = [0, 0, 31, 60, 91, 121, 152, 182, 213, 244, 274, 305, 335]\n",
        "\n",
        "    dd, mm, yyyy = split(s)\n",
        "    if is_leap(yyyy):\n",
        "        days = UPTO_DAYS_LEAP\n",
        "    else:\n",
        "        days = UPTO_DAYS_ORDY\n",
        "    return yyyy * 1000 + days[mm] + dd"
      ],
      "metadata": {
        "id": "saGP8OfMCGNR"
      },
      "execution_count": null,
      "outputs": []
    },
    {
      "cell_type": "code",
      "source": [
        "\"07/04/1999\".split(\"/\")"
      ],
      "metadata": {
        "id": "X6zOD6TaFZJV"
      },
      "execution_count": null,
      "outputs": []
    },
    {
      "cell_type": "code",
      "source": [
        "a, b, c = \"07/04/1999\".split(\"/\")"
      ],
      "metadata": {
        "id": "Df6lB_ZiNEve"
      },
      "execution_count": null,
      "outputs": []
    },
    {
      "cell_type": "code",
      "source": [
        "a"
      ],
      "metadata": {
        "id": "T0piKDxENI6v"
      },
      "execution_count": null,
      "outputs": []
    },
    {
      "cell_type": "code",
      "source": [
        "b"
      ],
      "metadata": {
        "id": "JNfNhO9FNJpo"
      },
      "execution_count": null,
      "outputs": []
    },
    {
      "cell_type": "code",
      "source": [
        "c"
      ],
      "metadata": {
        "id": "oWKAqbBqNKZP"
      },
      "execution_count": null,
      "outputs": []
    },
    {
      "cell_type": "markdown",
      "source": [
        "# Dictionaries\n"
      ],
      "metadata": {
        "id": "xNvCGURmNLEu"
      }
    },
    {
      "cell_type": "code",
      "source": [
        "cities = [\"Chennai\", \"Hyderabad\", \"Bengaluru\", \"Thiruvananthapuram\", \"Kolkata\"]\n",
        "states = [\"TN\", \"TG\", \"KA\", \"KE\", \"WB\"]"
      ],
      "metadata": {
        "id": "KplYJOyrYvK5"
      },
      "execution_count": null,
      "outputs": []
    },
    {
      "cell_type": "code",
      "source": [
        "st = \"KA\"\n",
        "cities[states.index(st)]"
      ],
      "metadata": {
        "id": "Nnu6DI51jePG"
      },
      "execution_count": null,
      "outputs": []
    },
    {
      "cell_type": "code",
      "source": [
        "capitals = {\"TN\": \"Chennai\", \"TG\": \"Hyderabad\", \"KA\": \"Bengaluru\",\n",
        "            \"KE\": \"Thiruvananthapuram\", \"WB\": \"Kolkata\"}"
      ],
      "metadata": {
        "id": "tBk6Ootlj_00"
      },
      "execution_count": null,
      "outputs": []
    },
    {
      "cell_type": "code",
      "source": [
        "capitals[\"KA\"]"
      ],
      "metadata": {
        "id": "nTKQnSW2kpIj"
      },
      "execution_count": null,
      "outputs": []
    },
    {
      "cell_type": "code",
      "source": [
        "capitals[\"ND\"] = \"Delhi\""
      ],
      "metadata": {
        "id": "jP5o439Wkrq0"
      },
      "execution_count": null,
      "outputs": []
    },
    {
      "cell_type": "code",
      "source": [
        "print(capitals)"
      ],
      "metadata": {
        "id": "MFNuI8CRlbX1"
      },
      "execution_count": null,
      "outputs": []
    },
    {
      "cell_type": "code",
      "source": [
        "capitals[\"ND\"] = \"New Delhi\""
      ],
      "metadata": {
        "id": "nQMXcn2olg1N"
      },
      "execution_count": null,
      "outputs": []
    },
    {
      "cell_type": "code",
      "source": [
        "capitals.keys()"
      ],
      "metadata": {
        "id": "GWXm5EYWlmc1"
      },
      "execution_count": null,
      "outputs": []
    },
    {
      "cell_type": "code",
      "source": [
        "capitals.values()"
      ],
      "metadata": {
        "id": "DmujpUdImRZr"
      },
      "execution_count": null,
      "outputs": []
    },
    {
      "cell_type": "code",
      "source": [
        "capitals.items()"
      ],
      "metadata": {
        "id": "TxulIEM4mTyr"
      },
      "execution_count": null,
      "outputs": []
    },
    {
      "cell_type": "code",
      "source": [
        "for capital in capitals:\n",
        "    print(capital, capitals[capital])"
      ],
      "metadata": {
        "id": "TarW7Ih-mV2v"
      },
      "execution_count": null,
      "outputs": []
    },
    {
      "cell_type": "code",
      "source": [
        "capitals[None] = \"Erewhon\""
      ],
      "metadata": {
        "id": "NeJMkyP6mg5i"
      },
      "execution_count": null,
      "outputs": []
    },
    {
      "cell_type": "code",
      "source": [
        "capitals"
      ],
      "metadata": {
        "id": "J-CkbeDloSoW"
      },
      "execution_count": null,
      "outputs": []
    },
    {
      "cell_type": "code",
      "source": [
        "for val in capitals.values():\n",
        "    print(val)"
      ],
      "metadata": {
        "id": "bOayP9aMoT7F"
      },
      "execution_count": null,
      "outputs": []
    },
    {
      "cell_type": "code",
      "source": [
        "for state, city in capitals.items():\n",
        "    print(state, city)"
      ],
      "metadata": {
        "id": "MKQPGPARo6Sp"
      },
      "execution_count": null,
      "outputs": []
    },
    {
      "cell_type": "code",
      "source": [
        "for state in sorted(capitals.keys()):\n",
        "    print(state, capitals[state])"
      ],
      "metadata": {
        "id": "08xrYYeRpJuI"
      },
      "execution_count": null,
      "outputs": []
    },
    {
      "cell_type": "code",
      "source": [
        "words = [\"hello\", \"pests\", \"steps\", \"sword\", \"spear\", \"pears\", \"cloud\", \n",
        "         \"steep\", \"pares\", \"could\", \"reaps\"]"
      ],
      "metadata": {
        "id": "sCSPG69KppfH"
      },
      "execution_count": null,
      "outputs": []
    },
    {
      "cell_type": "code",
      "source": [
        "anagrams = {}\n",
        "for word in words:\n",
        "    word = word.lower()\n",
        "    key = ''.join(sorted(word))\n",
        "    if key in anagrams:\n",
        "        anagrams[key].append(word)\n",
        "    else:\n",
        "        anagrams[key] = [word]\n",
        "\n",
        "for anagram in anagrams:\n",
        "    if len(anagrams[anagram]) > 1:\n",
        "        print(\",\".join(anagrams[anagram]))\n"
      ],
      "metadata": {
        "id": "UUj9MYa3qJ4N"
      },
      "execution_count": null,
      "outputs": []
    },
    {
      "cell_type": "markdown",
      "source": [
        "## FizzBuzz"
      ],
      "metadata": {
        "id": "ReZwNtjJsCy-"
      }
    },
    {
      "cell_type": "code",
      "source": [
        "def fizzbuzz01(n: int) -> str:\n",
        "    if n % 15 == 0:\n",
        "        return \"FIZZBUZZ\"\n",
        "    elif n % 5 == 0:\n",
        "        return \"BUZZ\"\n",
        "    elif n % 3 == 0:\n",
        "        return \"FIZZ\"\n",
        "    else:\n",
        "        return str(n)\n",
        "\n",
        "def fb(limit: int) -> [str]:\n",
        "    fbs = []\n",
        "    for i in range(1, limit + 1):\n",
        "        fbs.append(fizzbuzz01(i))\n",
        "    return fbs\n"
      ],
      "metadata": {
        "id": "lYA4kRe0zJbU"
      },
      "execution_count": null,
      "outputs": []
    },
    {
      "cell_type": "code",
      "source": [
        "fb(16)"
      ],
      "metadata": {
        "id": "HFdJuu5_zvCK"
      },
      "execution_count": null,
      "outputs": []
    },
    {
      "cell_type": "code",
      "source": [
        "def fizzbuzz02(n: int) -> str:\n",
        "    out = \"\"\n",
        "    if n % 3 == 0:\n",
        "        out = \"FIZZ\"\n",
        "    if n % 5 == 0:\n",
        "        out += \"BUZZ\"\n",
        "    if len(out) == 0:\n",
        "        return str(n)\n",
        "    else:\n",
        "        return out"
      ],
      "metadata": {
        "id": "_cCJiuHZzwR4"
      },
      "execution_count": null,
      "outputs": []
    },
    {
      "cell_type": "code",
      "source": [
        "def fb(limit: int) -> [str]:\n",
        "    fbs = []\n",
        "    for i in range(1, limit + 1):\n",
        "        fbs.append(fizzbuzz02(i))\n",
        "    return fbs\n"
      ],
      "metadata": {
        "id": "2M4FCNay089n"
      },
      "execution_count": null,
      "outputs": []
    },
    {
      "cell_type": "code",
      "source": [
        "fb(15)"
      ],
      "metadata": {
        "id": "bTwxiMoX1AAU"
      },
      "execution_count": null,
      "outputs": []
    },
    {
      "cell_type": "code",
      "source": [
        "def fizzbuzz03(n: int) -> str:\n",
        "    fbs = [\"FIZZBUZZ\", '', '', \"FIZZ\", '', \"BUZZ\", \"FIZZ\", '',\n",
        "           '', \"FIZZ\", \"BUZZ\", '', \"FIZZ\", '', '']\n",
        "    position = n % 15\n",
        "    if fbs[position] == '':\n",
        "        return str(n)\n",
        "    else:\n",
        "        return fbs[position]"
      ],
      "metadata": {
        "id": "wwcuLcbT1BTE"
      },
      "execution_count": null,
      "outputs": []
    },
    {
      "cell_type": "code",
      "source": [
        "def fb(limit: int) -> [str]:\n",
        "    fbs = []\n",
        "    for i in range(1, limit + 1):\n",
        "        fbs.append(fizzbuzz03(i))\n",
        "    return fbs\n"
      ],
      "metadata": {
        "id": "59cI-Dvo10pr"
      },
      "execution_count": null,
      "outputs": []
    },
    {
      "cell_type": "code",
      "source": [
        "fb(15)"
      ],
      "metadata": {
        "id": "OhLdJ1XH13cj"
      },
      "execution_count": null,
      "outputs": []
    },
    {
      "cell_type": "code",
      "source": [
        "def fizzbuzz04(n: int) -> str:\n",
        "    fbs = {(True, True): \"FIZZBUZZ\", (True, False): \"FIZZ\",\n",
        "           (False, True): \"BUZZ\", (False, False): str(n)}\n",
        "    return fbs[(n % 3 == 0, n % 5 == 0)]"
      ],
      "metadata": {
        "id": "iBcmwM3j15LE"
      },
      "execution_count": null,
      "outputs": []
    },
    {
      "cell_type": "markdown",
      "source": [
        ""
      ],
      "metadata": {
        "id": "OPeW-V-Z87jI"
      }
    },
    {
      "cell_type": "code",
      "source": [
        "def fb(limit: int) -> [str]:\n",
        "    fbs = []\n",
        "    for i in range(1, limit + 1):\n",
        "        fbs.append(fizzbuzz04(i))\n",
        "    return fbs"
      ],
      "metadata": {
        "id": "Kv_B_2df37oU"
      },
      "execution_count": null,
      "outputs": []
    },
    {
      "cell_type": "code",
      "source": [
        "fb(15)"
      ],
      "metadata": {
        "id": "1oYZsJLw3_8i"
      },
      "execution_count": null,
      "outputs": []
    },
    {
      "cell_type": "code",
      "source": [
        "def pick(n: int) -> int:\n",
        "    return int(n % 3 == 0) + 2 * int(n % 5 == 0)\n",
        "\n",
        "def fizzbuzz05(n: int) -> str:\n",
        "    return [str(n), \"FIZZ\", \"BUZZ\", \"FIZZBUZZ\"][pick(n)]"
      ],
      "metadata": {
        "id": "5FbAzZr_4BTD"
      },
      "execution_count": null,
      "outputs": []
    },
    {
      "cell_type": "code",
      "source": [
        "def fb(limit: int) -> [str]:\n",
        "    fbs = []\n",
        "    for i in range(1, limit + 1):\n",
        "        fbs.append(fizzbuzz05(i))\n",
        "    return fbs"
      ],
      "metadata": {
        "id": "yfoVtEkp58DM"
      },
      "execution_count": null,
      "outputs": []
    },
    {
      "cell_type": "code",
      "source": [
        "fb(15)"
      ],
      "metadata": {
        "id": "-B4LWQXP6C9T"
      },
      "execution_count": null,
      "outputs": []
    },
    {
      "cell_type": "code",
      "source": [
        ""
      ],
      "metadata": {
        "id": "E4PXSTbz6EMp"
      },
      "execution_count": null,
      "outputs": []
    }
  ]
}